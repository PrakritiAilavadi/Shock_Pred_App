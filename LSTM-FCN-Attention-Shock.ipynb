{
 "cells": [
  {
   "cell_type": "markdown",
   "metadata": {
    "colab_type": "text",
    "id": "h-9N5Lhg2Bnp"
   },
   "source": [
    "# Importing necessary libraries"
   ]
  },
  {
   "cell_type": "code",
   "execution_count": 1,
   "metadata": {},
   "outputs": [
    {
     "name": "stdout",
     "output_type": "stream",
     "text": [
      "env: CUDA_DEVICE_ORDER=PCI_BUS_ID\n",
      "env: CUDA_VISIBLE_DEVICES=1\n"
     ]
    }
   ],
   "source": [
    "%env CUDA_DEVICE_ORDER=PCI_BUS_ID\n",
    "%env CUDA_VISIBLE_DEVICES=1"
   ]
  },
  {
   "cell_type": "code",
   "execution_count": 1,
   "metadata": {
    "colab": {
     "autoexec": {
      "startup": false,
      "wait_interval": 0
     }
    },
    "colab_type": "code",
    "id": "Dfk9bbp7rycF"
   },
   "outputs": [
    {
     "ename": "SyntaxError",
     "evalue": "from __future__ imports must occur at the beginning of the file (<ipython-input-1-2617345bd13b>, line 8)",
     "output_type": "error",
     "traceback": [
      "\u001b[0;36m  File \u001b[0;32m\"<ipython-input-1-2617345bd13b>\"\u001b[0;36m, line \u001b[0;32m8\u001b[0m\n\u001b[0;31m    import pickle\u001b[0m\n\u001b[0m           ^\u001b[0m\n\u001b[0;31mSyntaxError\u001b[0m\u001b[0;31m:\u001b[0m from __future__ imports must occur at the beginning of the file\n"
     ]
    }
   ],
   "source": [
    "import numpy as np\n",
    "import pandas as pd\n",
    "##import tensorflow as tf\n",
    "#from lime import lime_image\n",
    "from __future__ import print_function\n",
    "import tensorflow as tf\n",
    "import matplotlib.pyplot as plt\n",
    "import pickle\n",
    "import keras.backend as K\n",
    "from keras.datasets import mnist \n",
    "from keras.models import Sequential\n",
    "from keras.layers import Dense, Dropout, Flatten \n",
    "from keras.layers import Convolution2D as Conv2D, MaxPooling2D\n",
    "from IPython.display import clear_output\n",
    "#from skimage.segmentation import mark_boundaries\n",
    "from sklearn.model_selection import train_test_split\n",
    "import os\n",
    "from glob import glob\n",
    "import random\n",
    "#from imblearn.over_sampling import SMOTE"
   ]
  },
  {
   "cell_type": "code",
   "execution_count": 3,
   "metadata": {},
   "outputs": [],
   "source": [
    "#path=\"/workspace/safeicu/aditya/Aditya's work/los_new/mimic_los_classification/\""
   ]
  },
  {
   "cell_type": "code",
   "execution_count": 4,
   "metadata": {},
   "outputs": [],
   "source": [
    "# np.random.seed(123)\n",
    "# tf.set_random_seed(123)"
   ]
  },
  {
   "cell_type": "markdown",
   "metadata": {},
   "source": [
    "### Data\n"
   ]
  },
  {
   "cell_type": "code",
   "execution_count": 5,
   "metadata": {},
   "outputs": [],
   "source": [
    "main_path = \"/home/safeicu/aditya/SI_cohort_mimic_one_ins/SI_cohort_with_dias/with_demo_mimic_si/\"\n",
    "\n",
    "bor_x_train = pd.read_csv(main_path + \"si_train_full_res.csv\")\n",
    "bor_x_val = pd.read_csv(main_path + \"si_val_full_res.csv\")\n",
    "bor_x_test = pd.read_csv(main_path + \"si_test_full_res.csv\")\n",
    "\n",
    "demo_train = bor_x_train[['GENDER', 'age']]\n",
    "demo_val = bor_x_val[['GENDER', 'age']]\n",
    "demo_test = bor_x_test[['GENDER', 'age']]"
   ]
  },
  {
   "cell_type": "code",
   "execution_count": 6,
   "metadata": {},
   "outputs": [],
   "source": [
    "y_train = bor_x_train[['label']]\n",
    "y_val = bor_x_val[['label']]\n",
    "y_test = bor_x_test[['label']]\n",
    "\n",
    "x_train = np.array(bor_x_train.drop(['id', 'GENDER', 'age', 'label'], axis = 1))\n",
    "x_val = np.array(bor_x_val.drop(['id', 'GENDER', 'age', 'label', ], axis = 1))\n",
    "x_test = np.array(bor_x_test.drop(['id', 'GENDER', 'age', 'label'], axis = 1))"
   ]
  },
  {
   "cell_type": "code",
   "execution_count": 7,
   "metadata": {},
   "outputs": [],
   "source": [
    "## When (var,  timestep)"
   ]
  },
  {
   "cell_type": "code",
   "execution_count": 8,
   "metadata": {},
   "outputs": [
    {
     "name": "stdout",
     "output_type": "stream",
     "text": [
      "(1516, 256)\n",
      "(1516, 256)\n",
      "(1516, 256)\n",
      "(1516, 256)\n",
      "(1516, 256)\n",
      "62.83834652827246\n",
      "(1516, 256)\n",
      "61.927627559304284\n",
      "(415, 256)\n"
     ]
    }
   ],
   "source": [
    "x_train_hr = x_train[:,0:256]\n",
    "mean_hr_tr = np.mean(x_train_hr)\n",
    "std_hr_tr = np.nanstd(x_train_hr)\n",
    "x_train_hr = (x_train_hr - mean_hr_tr)/(std_hr_tr)\n",
    "                                                        ##, ddof = 1) + K.epsilon())\n",
    "print(x_train_hr.shape)\n",
    "\n",
    "x_train_resp = x_train[:,256:512]\n",
    "mean_resp_tr = np.mean(x_train_resp)\n",
    "std_resp_tr = np.nanstd(x_train_resp)\n",
    "x_train_resp = (x_train_resp - mean_resp_tr)/(std_resp_tr)\n",
    "                                                              ##, ddof = 1) + K.epsilon())\n",
    "print(x_train_resp.shape)\n",
    "\n",
    "x_train_sp = x_train[:,512:768]\n",
    "mean_sp_tr = np.mean(x_train_sp)\n",
    "std_sp_tr = np.nanstd(x_train_sp)\n",
    "x_train_sp = (x_train_sp - mean_sp_tr)/(std_sp_tr)\n",
    "                                                        ##, ddof = 1) + K.epsilon())\n",
    "print(x_train_sp.shape)\n",
    "\n",
    "x_train_sys = x_train[:,768:1024]\n",
    "mean_sys_tr = np.mean(x_train_sys)\n",
    "std_sys_tr = np.nanstd(x_train_sys)\n",
    "x_train_sys = (x_train_sys -mean_sys_tr)/ (std_sys_tr)\n",
    "                                                            ##, ddof = 1) + K.epsilon())\n",
    "print(x_train_sys.shape)\n",
    "\n",
    "x_train_dias = x_train[:,1024:1280]\n",
    "mean_dias_tr = np.mean(x_train_dias)\n",
    "std_dias_tr = np.nanstd(x_train_dias)\n",
    "x_train_dias = (x_train_dias - mean_dias_tr)/ (std_dias_tr)\n",
    "                                                               ##, ddof = 1) + K.epsilon())\n",
    "print(x_train_dias.shape)\n",
    "############## Validation centring ###########\n",
    "x_val_hr = x_val[:,0:256]\n",
    "x_val_hr = (x_val_hr - mean_hr_tr)/ std_hr_tr\n",
    "                                                     #, ddof = 1) + K.epsilon())\n",
    "\n",
    "x_val_resp = x_val[:,256:512]\n",
    "x_val_resp = (x_val_resp - mean_resp_tr)/std_resp_tr\n",
    "                                                          ##, ddof = 1) + K.epsilon())\n",
    "\n",
    "x_val_sp = x_val[:,512:768]\n",
    "x_val_sp = (x_val_sp - mean_sp_tr) / std_sp_tr\n",
    "                                                      ##, ddof = 1) + K.epsilon())\n",
    "\n",
    "x_val_sys = x_val[:,768:1024]\n",
    "x_val_sys = (x_val_sys - mean_sys_tr)/ (std_sys_tr)\n",
    "                                                        #, ddof = 1) + K.epsilon())\n",
    "\n",
    "x_val_dias = x_val[:,1024:1280]\n",
    "print(np.mean(x_val_dias))\n",
    "x_val_dias = (x_val_dias - mean_dias_tr)/ (std_dias_tr)\n",
    "                                                           #, ddof = 1) + K.epsilon())\n",
    "print(x_train_dias.shape)\n",
    "\n",
    "######################### Test centering ##############\n",
    "x_test_hr = x_test[:,0:256]\n",
    "x_test_hr = (x_test_hr - mean_hr_tr )/ (std_hr_tr) \n",
    "                                                        #ddof = 1) + K.epsilon())\n",
    "\n",
    "x_test_resp = x_test[:,256:512]\n",
    "x_test_resp = (x_test_resp - mean_resp_tr)/ (std_resp_tr)\n",
    "                                                             #ddof = 1) + K.epsilon())\n",
    "\n",
    "x_test_sp = x_test[:,512:768]\n",
    "x_test_sp = (x_test_sp - mean_sp_tr)/ (std_sp_tr) \n",
    "                                                       #ddof = 1) + K.epsilon())\n",
    "\n",
    "x_test_sys = x_test[:,768:1024]\n",
    "x_test_sys = (x_test_sys - mean_sys_tr)/ (std_sys_tr)\n",
    "\n",
    "x_test_dias = x_test[:,1024:1280]\n",
    "print(np.mean(x_test_dias))\n",
    "x_test_dias = (x_test_dias - mean_dias_tr)/ (std_dias_tr)\n",
    "print(x_test_dias.shape)\n"
   ]
  },
  {
   "cell_type": "code",
   "execution_count": 9,
   "metadata": {},
   "outputs": [],
   "source": [
    "from numpy import zeros, newaxis\n",
    "#x_train_hr = np.array(x_train_hr)\n",
    "\n",
    "x_train_hr = x_train_hr[:, newaxis,:]\n",
    "x_train_resp = x_train_resp[:, newaxis,:]\n",
    "x_train_sp = x_train_sp[:,newaxis,:]\n",
    "x_train_sys = x_train_sys[:,newaxis,:]\n",
    "x_train_dias = x_train_dias[:,newaxis,:]\n",
    "\n",
    "x_val_hr = x_val_hr[:,newaxis,:]\n",
    "x_val_resp = x_val_resp[:,newaxis,:]\n",
    "x_val_sp = x_val_sp[:,newaxis,:]\n",
    "x_val_sys = x_val_sys[:, newaxis,:]\n",
    "x_val_dias = x_val_dias[:,newaxis,:]\n",
    "\n",
    "x_test_hr = x_test_hr[:,newaxis,:]\n",
    "x_test_resp = x_test_resp[:, newaxis,:]\n",
    "x_test_sp = x_test_sp[:,  newaxis,:]\n",
    "x_test_sys = x_test_sys[:, newaxis,:]\n",
    "x_test_dias = x_test_dias[:, newaxis,:]"
   ]
  },
  {
   "cell_type": "code",
   "execution_count": 10,
   "metadata": {},
   "outputs": [
    {
     "name": "stdout",
     "output_type": "stream",
     "text": [
      "(1516, 5, 256)\n",
      "(415, 5, 256)\n",
      "(415, 5, 256)\n"
     ]
    }
   ],
   "source": [
    "x_train =  np.hstack((np.array(x_train_hr), np.array(x_train_resp), np.array(x_train_sp), np.array(x_train_sys), np.array(x_train_dias))) \n",
    "x_val =  np.hstack((np.array(x_val_hr), np.array(x_val_resp), np.array(x_val_sp), np.array(x_val_sys),np.array(x_val_dias)))\n",
    "x_test =  np.hstack((np.array(x_test_hr), np.array(x_test_resp), np.array(x_test_sp), np.array(x_test_sys),np.array(x_test_dias))) \n",
    "print(x_train.shape)\n",
    "print(x_val.shape)\n",
    "print(x_test.shape)"
   ]
  },
  {
   "cell_type": "code",
   "execution_count": 11,
   "metadata": {},
   "outputs": [
    {
     "name": "stderr",
     "output_type": "stream",
     "text": [
      "/home/safeicu/anaconda2/lib/python2.7/site-packages/ipykernel_launcher.py:4: SettingWithCopyWarning: \n",
      "A value is trying to be set on a copy of a slice from a DataFrame.\n",
      "Try using .loc[row_indexer,col_indexer] = value instead\n",
      "\n",
      "See the caveats in the documentation: http://pandas.pydata.org/pandas-docs/stable/indexing.html#indexing-view-versus-copy\n",
      "  after removing the cwd from sys.path.\n",
      "/home/safeicu/anaconda2/lib/python2.7/site-packages/ipykernel_launcher.py:5: SettingWithCopyWarning: \n",
      "A value is trying to be set on a copy of a slice from a DataFrame.\n",
      "Try using .loc[row_indexer,col_indexer] = value instead\n",
      "\n",
      "See the caveats in the documentation: http://pandas.pydata.org/pandas-docs/stable/indexing.html#indexing-view-versus-copy\n",
      "  \"\"\"\n",
      "/home/safeicu/anaconda2/lib/python2.7/site-packages/ipykernel_launcher.py:6: SettingWithCopyWarning: \n",
      "A value is trying to be set on a copy of a slice from a DataFrame.\n",
      "Try using .loc[row_indexer,col_indexer] = value instead\n",
      "\n",
      "See the caveats in the documentation: http://pandas.pydata.org/pandas-docs/stable/indexing.html#indexing-view-versus-copy\n",
      "  \n"
     ]
    }
   ],
   "source": [
    "age = demo_train['age'] \n",
    "tr_age_tr = age.mean(axis=0)\n",
    "tr_age_std = age.std(axis=0)\n",
    "demo_train['age'] = (demo_train['age']  - tr_age_tr) /tr_age_std\n",
    "demo_val['age'] = (demo_val['age'] - tr_age_tr)/ tr_age_std\n",
    "demo_test['age'] = (demo_test['age'] - tr_age_tr)/ tr_age_std"
   ]
  },
  {
   "cell_type": "code",
   "execution_count": 12,
   "metadata": {},
   "outputs": [],
   "source": [
    "import keras"
   ]
  },
  {
   "cell_type": "code",
   "execution_count": 13,
   "metadata": {},
   "outputs": [],
   "source": [
    "y_train = y_train.replace('Abnormal', '1')\n",
    "y_train = y_train.replace('Normal', '0')\n",
    "\n",
    "y_test = y_test.replace('Abnormal', '1')\n",
    "y_test = y_test.replace('Normal', '0')\n",
    "\n",
    "y_val = y_val.replace('Abnormal', '1')\n",
    "y_val = y_val.replace('Normal', '0')\n",
    "\n",
    "\n",
    "\n"
   ]
  },
  {
   "cell_type": "code",
   "execution_count": 14,
   "metadata": {},
   "outputs": [
    {
     "name": "stdout",
     "output_type": "stream",
     "text": [
      "(1516, 2)\n",
      "(415, 2)\n",
      "(415, 2)\n"
     ]
    }
   ],
   "source": [
    "y_train = keras.utils.to_categorical(y_train, 2)\n",
    "print(y_train.shape)\n",
    "y_test = keras.utils.to_categorical(y_test, 2)\n",
    "print(y_test.shape)\n",
    "y_val = keras.utils.to_categorical(y_val, 2)\n",
    "print(y_val.shape)\n"
   ]
  },
  {
   "cell_type": "code",
   "execution_count": 15,
   "metadata": {},
   "outputs": [],
   "source": [
    "import keras"
   ]
  },
  {
   "cell_type": "code",
   "execution_count": 16,
   "metadata": {},
   "outputs": [],
   "source": [
    "from keras.models import Model\n",
    "from keras.layers import Input, Dense, LSTM, multiply, concatenate, Activation, Masking, Reshape\n",
    "from keras.layers import Conv1D, BatchNormalization, GlobalAveragePooling1D, Permute, Dropout\n"
   ]
  },
  {
   "cell_type": "code",
   "execution_count": 17,
   "metadata": {},
   "outputs": [],
   "source": [
    "from __future__ import absolute_import\n",
    "import numpy as np\n",
    "\n",
    "from keras import backend as K\n",
    "from keras import activations\n",
    "from keras import initializers\n",
    "from keras import regularizers\n",
    "from keras import constraints\n",
    "from keras.engine import Layer\n",
    "from keras.engine import InputSpec\n",
    "from keras.legacy import interfaces\n",
    "from keras.layers import Recurrent\n",
    "\n",
    "\n",
    "def _time_distributed_dense(x, w, b=None, dropout=None,\n",
    "                            input_dim=None, output_dim=None,\n",
    "                            timesteps=None, training=None):\n",
    "    \"\"\"Apply `y . w + b` for every temporal slice y of x.\n",
    "    # Arguments\n",
    "        x: input tensor.\n",
    "        w: weight matrix.\n",
    "        b: optional bias vector.\n",
    "        dropout: wether to apply dropout (same dropout mask\n",
    "            for every temporal slice of the input).\n",
    "        input_dim: integer; optional dimensionality of the input.\n",
    "        output_dim: integer; optional dimensionality of the output.\n",
    "        timesteps: integer; optional number of timesteps.\n",
    "        training: training phase tensor or boolean.\n",
    "    # Returns\n",
    "        Output tensor.\n",
    "    \"\"\"\n",
    "    if not input_dim:\n",
    "        input_dim = K.shape(x)[2]\n",
    "    if not timesteps:\n",
    "        timesteps = K.shape(x)[1]\n",
    "    if not output_dim:\n",
    "        output_dim = K.int_shape(w)[1]\n",
    "\n",
    "    if dropout is not None and 0. < dropout < 1.:\n",
    "        # apply the same dropout pattern at every timestep\n",
    "        ones = K.ones_like(K.reshape(x[:, 0, :], (-1, input_dim)))\n",
    "        dropout_matrix = K.dropout(ones, dropout)\n",
    "        expanded_dropout_matrix = K.repeat(dropout_matrix, timesteps)\n",
    "        x = K.in_train_phase(x * expanded_dropout_matrix, x, training=training)\n",
    "\n",
    "    # collapse time dimension and batch dimension together\n",
    "    x = K.reshape(x, (-1, input_dim))\n",
    "    x = K.dot(x, w)\n",
    "    if b is not None:\n",
    "        x = K.bias_add(x, b)\n",
    "    # reshape to 3D tensor\n",
    "    if K.backend() == 'tensorflow':\n",
    "        x = K.reshape(x, K.stack([-1, timesteps, output_dim]))\n",
    "        x.set_shape([None, None, output_dim])\n",
    "    else:\n",
    "        x = K.reshape(x, (-1, timesteps, output_dim))\n",
    "    return x\n",
    "\n",
    "\n",
    "class AttentionLSTM(Recurrent):\n",
    "    \"\"\"Long-Short Term Memory unit - with Attention.\n",
    "    # Arguments\n",
    "        units: Positive integer, dimensionality of the output space.\n",
    "        activation: Activation function to use\n",
    "            (see [activations](keras/activations.md)).\n",
    "            If you pass None, no activation is applied\n",
    "            (ie. \"linear\" activation: `a(x) = x`).\n",
    "        recurrent_activation: Activation function to use\n",
    "            for the recurrent step\n",
    "            (see [activations](keras/activations.md)).\n",
    "        attention_activation: Activation function to use\n",
    "            for the attention step. If you pass None, no activation is applied\n",
    "            (ie. \"linear\" activation: `a(x) = x`).\n",
    "            (see [activations](keras/activations.md)).\n",
    "        use_bias: Boolean, whether the layer uses a bias vector.\n",
    "        kernel_initializer: Initializer for the `kernel` weights matrix,\n",
    "            used for the linear transformation of the inputs.\n",
    "            (see [initializers](../initializers.md)).\n",
    "        recurrent_initializer: Initializer for the `recurrent_kernel`\n",
    "            weights matrix,\n",
    "            used for the linear transformation of the recurrent state.\n",
    "            (see [initializers](../initializers.md)).\n",
    "        bias_initializer: Initializer for the bias vector\n",
    "            (see [initializers](../initializers.md)).\n",
    "        attention_initializer: Initializer for the `attention_kernel` weights\n",
    "            matrix, used for the linear transformation of the inputs.\n",
    "            (see [initializers](../initializers.md)).\n",
    "        unit_forget_bias: Boolean.\n",
    "            If True, add 1 to the bias of the forget gate at initialization.\n",
    "            Setting it to true will also force `bias_initializer=\"zeros\"`.\n",
    "            This is recommended in [Jozefowicz et al.](http://www.jmlr.org/proceedings/papers/v37/jozefowicz15.pdf)\n",
    "        kernel_regularizer: Regularizer function applied to\n",
    "            the `kernel` weights matrix\n",
    "            (see [regularizer](../regularizers.md)).\n",
    "        recurrent_regularizer: Regularizer function applied to\n",
    "            the `recurrent_kernel` weights matrix\n",
    "            (see [regularizer](../regularizers.md)).\n",
    "        bias_regularizer: Regularizer function applied to the bias vector\n",
    "            (see [regularizer](../regularizers.md)).\n",
    "        activity_regularizer: Regularizer function applied to\n",
    "            the output of the layer (its \"activation\").\n",
    "            (see [regularizer](../regularizers.md)).\n",
    "        attention_regularizer: Regularizer function applied to\n",
    "            the `attention_kernel` weights matrix\n",
    "            (see [regularizer](../regularizers.md)).\n",
    "        kernel_constraint: Constraint function applied to\n",
    "            the `kernel` weights matrix\n",
    "            (see [constraints](../constraints.md)).\n",
    "        recurrent_constraint: Constraint function applied to\n",
    "            the `recurrent_kernel` weights matrix\n",
    "            (see [constraints](../constraints.md)).\n",
    "        bias_constraint: Constraint function applied to the bias vector\n",
    "            (see [constraints](../constraints.md)).\n",
    "        attention_constraint: Constraint function applied to\n",
    "            the `attention_kernel` weights matrix\n",
    "            (see [constraints](../constraints.md)).\n",
    "        dropout: Float between 0 and 1.\n",
    "            Fraction of the units to drop for\n",
    "            the linear transformation of the inputs.\n",
    "        recurrent_dropout: Float between 0 and 1.\n",
    "            Fraction of the units to drop for\n",
    "            the linear transformation of the recurrent state.\n",
    "        return_attention: Returns the attention vector instead of\n",
    "            the internal state.\n",
    "    # References\n",
    "        - [Long short-term memory](http://deeplearning.cs.cmu.edu/pdfs/Hochreiter97_lstm.pdf) (original 1997 paper)\n",
    "        - [Learning to forget: Continual prediction with LSTM](http://www.mitpressjournals.org/doi/pdf/10.1162/089976600300015015)\n",
    "        - [Supervised sequence labeling with recurrent neural networks](http://www.cs.toronto.edu/~graves/preprint.pdf)\n",
    "        - [A Theoretically Grounded Application of Dropout in Recurrent Neural Networks](http://arxiv.org/abs/1512.05287)\n",
    "        - [Bahdanau, Cho & Bengio (2014), \"Neural Machine Translation by Jointly Learning to Align and Translate\"](https://arxiv.org/pdf/1409.0473.pdf)\n",
    "        - [Xu, Ba, Kiros, Cho, Courville, Salakhutdinov, Zemel & Bengio (2016), \"Show, Attend and Tell: Neural Image Caption Generation with Visual Attention\"](http://arxiv.org/pdf/1502.03044.pdf)\n",
    "    \"\"\"\n",
    "    @interfaces.legacy_recurrent_support\n",
    "    def __init__(self, units,\n",
    "                 activation='tanh',\n",
    "                 recurrent_activation='hard_sigmoid',\n",
    "                 attention_activation='tanh',\n",
    "                 use_bias=True,\n",
    "                 kernel_initializer='glorot_uniform',\n",
    "                 recurrent_initializer='orthogonal',\n",
    "                 attention_initializer='orthogonal',\n",
    "                 bias_initializer='zeros',\n",
    "                 unit_forget_bias=True,\n",
    "                 kernel_regularizer=None,\n",
    "                 recurrent_regularizer=None,\n",
    "                 bias_regularizer=None,\n",
    "                 activity_regularizer=None,\n",
    "                 attention_regularizer=None,\n",
    "                 kernel_constraint=None,\n",
    "                 recurrent_constraint=None,\n",
    "                 bias_constraint=None,\n",
    "                 attention_constraint=None,\n",
    "                 dropout=0.,\n",
    "                 recurrent_dropout=0.,\n",
    "                 return_attention=False,\n",
    "                 implementation=1,\n",
    "                 **kwargs):\n",
    "        super(AttentionLSTM, self).__init__(**kwargs)\n",
    "        self.units = units\n",
    "        self.activation = activations.get(activation)\n",
    "        self.recurrent_activation = activations.get(recurrent_activation)\n",
    "        self.attention_activation = activations.get(attention_activation)\n",
    "        self.use_bias = use_bias\n",
    "\n",
    "        self.kernel_initializer = initializers.get(kernel_initializer)\n",
    "        self.recurrent_initializer = initializers.get(recurrent_initializer)\n",
    "        self.attention_initializer = initializers.get(attention_initializer)\n",
    "        self.bias_initializer = initializers.get(bias_initializer)\n",
    "        self.unit_forget_bias = unit_forget_bias\n",
    "\n",
    "        self.kernel_regularizer = regularizers.get(kernel_regularizer)\n",
    "        self.recurrent_regularizer = regularizers.get(recurrent_regularizer)\n",
    "        self.bias_regularizer = regularizers.get(bias_regularizer)\n",
    "        self.activity_regularizer = regularizers.get(activity_regularizer)\n",
    "        self.attention_regularizer = regularizers.get(attention_regularizer)\n",
    "\n",
    "        self.kernel_constraint = constraints.get(kernel_constraint)\n",
    "        self.recurrent_constraint = constraints.get(recurrent_constraint)\n",
    "        self.bias_constraint = constraints.get(bias_constraint)\n",
    "        self.attention_constraint = constraints.get(attention_constraint)\n",
    "\n",
    "        self.dropout = min(1., max(0., dropout))\n",
    "        self.recurrent_dropout = min(1., max(0., recurrent_dropout))\n",
    "        self.return_attention = return_attention\n",
    "        self.state_spec = [InputSpec(shape=(None, self.units)),\n",
    "                           InputSpec(shape=(None, self.units))]\n",
    "        self.implementation = implementation\n",
    "\n",
    "    def build(self, input_shape):\n",
    "        if isinstance(input_shape, list):\n",
    "            input_shape = input_shape[0]\n",
    "\n",
    "        batch_size = input_shape[0] if self.stateful else None\n",
    "        self.timestep_dim = input_shape[1]\n",
    "        self.input_dim = input_shape[2]\n",
    "        self.input_spec[0] = InputSpec(shape=(batch_size, None, self.input_dim))\n",
    "\n",
    "        self.states = [None, None]\n",
    "        if self.stateful:\n",
    "            self.reset_states()\n",
    "\n",
    "        self.kernel = self.add_weight(shape=(self.input_dim, self.units * 4),\n",
    "                                      name='kernel',\n",
    "                                      initializer=self.kernel_initializer,\n",
    "                                      regularizer=self.kernel_regularizer,\n",
    "                                      constraint=self.kernel_constraint)\n",
    "        self.recurrent_kernel = self.add_weight(\n",
    "            shape=(self.units, self.units * 4),\n",
    "            name='recurrent_kernel',\n",
    "            initializer=self.recurrent_initializer,\n",
    "            regularizer=self.recurrent_regularizer,\n",
    "            constraint=self.recurrent_constraint)\n",
    "\n",
    "        # add attention kernel\n",
    "        self.attention_kernel = self.add_weight(\n",
    "            shape=(self.input_dim, self.units * 4),\n",
    "            name='attention_kernel',\n",
    "            initializer=self.attention_initializer,\n",
    "            regularizer=self.attention_regularizer,\n",
    "            constraint=self.attention_constraint)\n",
    "\n",
    "        # add attention weights\n",
    "        # weights for attention model\n",
    "        self.attention_weights = self.add_weight(shape=(self.input_dim, self.units),\n",
    "                                                 name='attention_W',\n",
    "                                                 initializer=self.attention_initializer,\n",
    "                                                 regularizer=self.attention_regularizer,\n",
    "                                                 constraint=self.attention_constraint)\n",
    "\n",
    "        self.attention_recurrent_weights = self.add_weight(shape=(self.units, self.units),\n",
    "                                                           name='attention_U',\n",
    "                                                           initializer=self.recurrent_initializer,\n",
    "                                                           regularizer=self.recurrent_regularizer,\n",
    "                                                           constraint=self.recurrent_constraint)\n",
    "\n",
    "        if self.use_bias:\n",
    "            if self.unit_forget_bias:\n",
    "                def bias_initializer(shape, *args, **kwargs):\n",
    "                    return K.concatenate([\n",
    "                        self.bias_initializer((self.units,), *args, **kwargs),\n",
    "                        initializers.Ones()((self.units,), *args, **kwargs),\n",
    "                        self.bias_initializer((self.units * 2,), *args, **kwargs),\n",
    "                    ])\n",
    "            else:\n",
    "                bias_initializer = self.bias_initializer\n",
    "            self.bias = self.add_weight(shape=(self.units * 4,),\n",
    "                                        name='bias',\n",
    "                                        initializer=self.bias_initializer,\n",
    "                                        regularizer=self.bias_regularizer,\n",
    "                                        constraint=self.bias_constraint)\n",
    "\n",
    "            self.attention_bias = self.add_weight(shape=(self.units,),\n",
    "                                                  name='attention_b',\n",
    "                                                  initializer=self.bias_initializer,\n",
    "                                                  regularizer=self.bias_regularizer,\n",
    "                                                  constraint=self.bias_constraint)\n",
    "\n",
    "            self.attention_recurrent_bias = self.add_weight(shape=(self.units, 1),\n",
    "                                                            name='attention_v',\n",
    "                                                            initializer=self.bias_initializer,\n",
    "                                                            regularizer=self.bias_regularizer,\n",
    "                                                            constraint=self.bias_constraint)\n",
    "        else:\n",
    "            self.bias = None\n",
    "            self.attention_bias = None\n",
    "            self.attention_recurrent_bias = None\n",
    "\n",
    "        self.kernel_i = self.kernel[:, :self.units]\n",
    "        self.kernel_f = self.kernel[:, self.units: self.units * 2]\n",
    "        self.kernel_c = self.kernel[:, self.units * 2: self.units * 3]\n",
    "        self.kernel_o = self.kernel[:, self.units * 3:]\n",
    "\n",
    "        self.recurrent_kernel_i = self.recurrent_kernel[:, :self.units]\n",
    "        self.recurrent_kernel_f = self.recurrent_kernel[:, self.units: self.units * 2]\n",
    "        self.recurrent_kernel_c = self.recurrent_kernel[:, self.units * 2: self.units * 3]\n",
    "        self.recurrent_kernel_o = self.recurrent_kernel[:, self.units * 3:]\n",
    "\n",
    "        self.attention_i = self.attention_kernel[:, :self.units]\n",
    "        self.attention_f = self.attention_kernel[:, self.units: self.units * 2]\n",
    "        self.attention_c = self.attention_kernel[:, self.units * 2: self.units * 3]\n",
    "        self.attention_o = self.attention_kernel[:, self.units * 3:]\n",
    "\n",
    "        if self.use_bias:\n",
    "            self.bias_i = self.bias[:self.units]\n",
    "            self.bias_f = self.bias[self.units: self.units * 2]\n",
    "            self.bias_c = self.bias[self.units * 2: self.units * 3]\n",
    "            self.bias_o = self.bias[self.units * 3:]\n",
    "        else:\n",
    "            self.bias_i = None\n",
    "            self.bias_f = None\n",
    "            self.bias_c = None\n",
    "            self.bias_o = None\n",
    "\n",
    "        self.built = True\n",
    "\n",
    "    def preprocess_input(self, inputs, training=None):\n",
    "        return inputs\n",
    "\n",
    "    def get_constants(self, inputs, training=None):\n",
    "        constants = []\n",
    "        if self.implementation != 0 and 0 < self.dropout < 1:\n",
    "            input_shape = K.int_shape(inputs)\n",
    "            input_dim = input_shape[-1]\n",
    "            ones = K.ones_like(K.reshape(inputs[:, 0, 0], (-1, 1)))\n",
    "            ones = K.tile(ones, (1, int(input_dim)))\n",
    "\n",
    "            def dropped_inputs():\n",
    "                return K.dropout(ones, self.dropout)\n",
    "\n",
    "            dp_mask = [K.in_train_phase(dropped_inputs,\n",
    "                                        ones,\n",
    "                                        training=training) for _ in range(4)]\n",
    "            constants.append(dp_mask)\n",
    "        else:\n",
    "            constants.append([K.cast_to_floatx(1.) for _ in range(4)])\n",
    "\n",
    "        if 0 < self.recurrent_dropout < 1:\n",
    "            ones = K.ones_like(K.reshape(inputs[:, 0, 0], (-1, 1)))\n",
    "            ones = K.tile(ones, (1, self.units))\n",
    "\n",
    "            def dropped_inputs():\n",
    "                return K.dropout(ones, self.recurrent_dropout)\n",
    "            rec_dp_mask = [K.in_train_phase(dropped_inputs,\n",
    "                                            ones,\n",
    "                                            training=training) for _ in range(4)]\n",
    "            constants.append(rec_dp_mask)\n",
    "        else:\n",
    "            constants.append([K.cast_to_floatx(1.) for _ in range(4)])\n",
    "\n",
    "        # append the input as well for use later\n",
    "        constants.append(inputs)\n",
    "        return constants\n",
    "\n",
    "    def step(self, inputs, states):\n",
    "        h_tm1 = states[0]\n",
    "        c_tm1 = states[1]\n",
    "        dp_mask = states[2]\n",
    "        rec_dp_mask = states[3]\n",
    "        x_input = states[4]\n",
    "\n",
    "        # alignment model\n",
    "        h_att = K.repeat(h_tm1, self.timestep_dim)\n",
    "        att = _time_distributed_dense(x_input, self.attention_weights, self.attention_bias,\n",
    "                                      output_dim=K.int_shape(self.attention_weights)[1])\n",
    "        attention_ = self.attention_activation(K.dot(h_att, self.attention_recurrent_weights) + att)\n",
    "        attention_ = K.squeeze(K.dot(attention_, self.attention_recurrent_bias), 2)\n",
    "\n",
    "        alpha = K.exp(attention_)\n",
    "\n",
    "        if dp_mask is not None:\n",
    "            alpha *= dp_mask[0]\n",
    "\n",
    "        alpha /= K.sum(alpha, axis=1, keepdims=True)\n",
    "        alpha_r = K.repeat(alpha, self.input_dim)\n",
    "        alpha_r = K.permute_dimensions(alpha_r, (0, 2, 1))\n",
    "\n",
    "        # make context vector (soft attention after Bahdanau et al.)\n",
    "        z_hat = x_input * alpha_r\n",
    "        context_sequence = z_hat\n",
    "        z_hat = K.sum(z_hat, axis=1)\n",
    "\n",
    "        if self.implementation == 2:\n",
    "            z = K.dot(inputs * dp_mask[0], self.kernel)\n",
    "            z += K.dot(h_tm1 * rec_dp_mask[0], self.recurrent_kernel)\n",
    "            z += K.dot(z_hat, self.attention_kernel)\n",
    "\n",
    "            if self.use_bias:\n",
    "                z = K.bias_add(z, self.bias)\n",
    "\n",
    "            z0 = z[:, :self.units]\n",
    "            z1 = z[:, self.units: 2 * self.units]\n",
    "            z2 = z[:, 2 * self.units: 3 * self.units]\n",
    "            z3 = z[:, 3 * self.units:]\n",
    "\n",
    "            i = self.recurrent_activation(z0)\n",
    "            f = self.recurrent_activation(z1)\n",
    "            c = f * c_tm1 + i * self.activation(z2)\n",
    "            o = self.recurrent_activation(z3)\n",
    "        else:\n",
    "            if self.implementation == 0:\n",
    "                x_i = inputs[:, :self.units]\n",
    "                x_f = inputs[:, self.units: 2 * self.units]\n",
    "                x_c = inputs[:, 2 * self.units: 3 * self.units]\n",
    "                x_o = inputs[:, 3 * self.units:]\n",
    "            elif self.implementation == 1:\n",
    "                x_i = K.dot(inputs * dp_mask[0], self.kernel_i) + self.bias_i\n",
    "                x_f = K.dot(inputs * dp_mask[1], self.kernel_f) + self.bias_f\n",
    "                x_c = K.dot(inputs * dp_mask[2], self.kernel_c) + self.bias_c\n",
    "                x_o = K.dot(inputs * dp_mask[3], self.kernel_o) + self.bias_o\n",
    "            else:\n",
    "                raise ValueError('Unknown `implementation` mode.')\n",
    "\n",
    "            i = self.recurrent_activation(x_i + K.dot(h_tm1 * rec_dp_mask[0], self.recurrent_kernel_i)\n",
    "                                              + K.dot(z_hat, self.attention_i))\n",
    "            f = self.recurrent_activation(x_f + K.dot(h_tm1 * rec_dp_mask[1], self.recurrent_kernel_f)\n",
    "                                          + K.dot(z_hat, self.attention_f))\n",
    "            c = f * c_tm1 + i * self.activation(x_c + K.dot(h_tm1 * rec_dp_mask[2], self.recurrent_kernel_c)\n",
    "                                                + K.dot(z_hat, self.attention_c))\n",
    "            o = self.recurrent_activation(x_o + K.dot(h_tm1 * rec_dp_mask[3], self.recurrent_kernel_o)\n",
    "                                          + K.dot(z_hat, self.attention_o))\n",
    "        h = o * self.activation(c)\n",
    "        if 0 < self.dropout + self.recurrent_dropout:\n",
    "            h._uses_learning_phase = True\n",
    "\n",
    "        if self.return_attention:\n",
    "            return context_sequence, [h, c]\n",
    "        else:\n",
    "            return h, [h, c]\n",
    "\n",
    "    def get_config(self):\n",
    "        config = {'units': self.units,\n",
    "                  'activation': activations.serialize(self.activation),\n",
    "                  'recurrent_activation': activations.serialize(self.recurrent_activation),\n",
    "                  'attention_activation': activations.serialize(self.attention_activation),\n",
    "                  'use_bias': self.use_bias,\n",
    "                  'kernel_initializer': initializers.serialize(self.kernel_initializer),\n",
    "                  'recurrent_initializer': initializers.serialize(self.recurrent_initializer),\n",
    "                  'bias_initializer': initializers.serialize(self.bias_initializer),\n",
    "                  'attention_initializer': initializers.serialize(self.attention_initializer),\n",
    "                  'unit_forget_bias': self.unit_forget_bias,\n",
    "                  'kernel_regularizer': regularizers.serialize(self.kernel_regularizer),\n",
    "                  'recurrent_regularizer': regularizers.serialize(self.recurrent_regularizer),\n",
    "                  'bias_regularizer': regularizers.serialize(self.bias_regularizer),\n",
    "                  'activity_regularizer': regularizers.serialize(self.activity_regularizer),\n",
    "                  'attention_regularizer': regularizers.serialize(self.attention_regularizer),\n",
    "                  'kernel_constraint': constraints.serialize(self.kernel_constraint),\n",
    "                  'recurrent_constraint': constraints.serialize(self.recurrent_constraint),\n",
    "                  'bias_constraint': constraints.serialize(self.bias_constraint),\n",
    "                  'attention_constraint': constraints.serialize(self.attention_constraint),\n",
    "                  'dropout': self.dropout,\n",
    "                  'recurrent_dropout': self.recurrent_dropout,\n",
    "                  'return_attention': self.return_attention}\n",
    "        base_config = super(AttentionLSTM, self).get_config()\n",
    "        return dict(list(base_config.items()) + list(config.items()))"
   ]
  },
  {
   "cell_type": "code",
   "execution_count": 18,
   "metadata": {},
   "outputs": [],
   "source": [
    "def plot_roc_curve(fpr, tpr):\n",
    "    plt.plot(fpr, tpr, color='orange', label='ROC')\n",
    "    plt.plot([0, 1], [0, 1], color='darkblue', linestyle='--')\n",
    "    plt.xlabel('False Positive Rate')\n",
    "    plt.ylabel('True Positive Rate')\n",
    "    plt.title('Receiver Operating Characteristic (ROC) Curve')\n",
    "    plt.legend()\n",
    "    plt.show()"
   ]
  },
  {
   "cell_type": "markdown",
   "metadata": {},
   "source": [
    "___\n",
    "___"
   ]
  },
  {
   "cell_type": "markdown",
   "metadata": {
    "colab_type": "text",
    "id": "J0BB05va2W6M"
   },
   "source": [
    "# Training"
   ]
  },
  {
   "cell_type": "code",
   "execution_count": 19,
   "metadata": {},
   "outputs": [],
   "source": [
    "import os\n",
    "import warnings\n",
    "\n",
    "from keras import layers\n",
    "from keras import models\n",
    "from keras import backend\n",
    "\n",
    "def generate_model():\n",
    "    ip = Input(shape=(5, 256))\n",
    "\n",
    "    x = Masking()(ip)\n",
    "    x = LSTM(12)(x)\n",
    "    x = Dropout(0.8)(x)\n",
    "\n",
    "    y = Permute((2, 1))(ip)\n",
    "    y = Conv1D(128, 8, padding='same', kernel_initializer='he_uniform')(y)\n",
    "    y = BatchNormalization()(y)\n",
    "    y = Activation('relu')(y)\n",
    "    y = squeeze_excite_block(y)\n",
    "\n",
    "    y = Conv1D(256, 5, padding='same', kernel_initializer='he_uniform')(y)\n",
    "    y = BatchNormalization()(y)\n",
    "    y = Activation('relu')(y)\n",
    "    y = squeeze_excite_block(y)\n",
    "\n",
    "    y = Conv1D(128, 3, padding='same', kernel_initializer='he_uniform')(y)\n",
    "    y = BatchNormalization()(y)\n",
    "    y = Activation('relu')(y)\n",
    "\n",
    "    y = GlobalAveragePooling1D()(y)\n",
    "\n",
    "    x = concatenate([x, y])\n",
    "\n",
    "    out = Dense(2, activation='softmax')(x)\n",
    "\n",
    "    model = Model(ip, out)\n",
    "    model.summary()\n",
    "\n",
    "    # add load model code here to fine-tune\n",
    "\n",
    "    return model\n",
    "\n",
    "\n",
    "def generate_model_2():\n",
    "    ip = Input(shape=(5, 256))\n",
    "    # stride = 10\n",
    "\n",
    "    # x = Permute((2, 1))(ip)\n",
    "    # x = Conv1D(MAX_NB_VARIABLES // stride, 8, strides=stride, padding='same', activation='relu', use_bias=False,\n",
    "    #            kernel_initializer='he_uniform')(x)  # (None, variables / stride, timesteps)\n",
    "    # x = Permute((2, 1))(x)\n",
    "\n",
    "    #ip1 = K.reshape(ip,shape=(MAX_TIMESTEPS,MAX_NB_VARIABLES))\n",
    "    #x = Permute((2, 1))(ip)\n",
    "    x = Masking()(ip)\n",
    "    x = AttentionLSTM(8)(x)\n",
    "    x = Dropout(0.8)(x)\n",
    "\n",
    "    y = Permute((2, 1))(ip)\n",
    "    y = Conv1D(128, 8, padding='same', kernel_initializer='he_uniform')(y)\n",
    "    y = BatchNormalization()(y)\n",
    "    y = Activation('relu')(y)\n",
    "    y = squeeze_excite_block(y)\n",
    "\n",
    "    y = Conv1D(256, 5, padding='same', kernel_initializer='he_uniform')(y)\n",
    "    y = BatchNormalization()(y)\n",
    "    y = Activation('relu')(y)\n",
    "    y = squeeze_excite_block(y)\n",
    "\n",
    "    y = Conv1D(128, 3, padding='same', kernel_initializer='he_uniform')(y)\n",
    "    y = BatchNormalization()(y)\n",
    "    y = Activation('relu')(y)\n",
    "\n",
    "    y = GlobalAveragePooling1D()(y)\n",
    "\n",
    "    x = concatenate([x, y])\n",
    "\n",
    "    out = Dense(2, activation='softmax')(x)\n",
    "\n",
    "    model = Model(ip, out)\n",
    "    model.summary()\n",
    "\n",
    "    # add load model code here to fine-tune\n",
    "\n",
    "    return model\n",
    "\n",
    "def generate_model_3():\n",
    "    ip = Input(shape=(MAX_NB_VARIABLES, MAX_TIMESTEPS))\n",
    "\n",
    "    x = Masking()(ip)\n",
    "    x = LSTM(8)(x)\n",
    "    x = Dropout(0.8)(x)\n",
    "\n",
    "    y = Permute((2, 1))(ip)\n",
    "    y = Conv1D(128, 8, padding='same', kernel_initializer='he_uniform')(y)\n",
    "    y = BatchNormalization()(y)\n",
    "    y = Activation('relu')(y)\n",
    "    #y = squeeze_excite_block(y)\n",
    "\n",
    "    y = Conv1D(256, 5, padding='same', kernel_initializer='he_uniform')(y)\n",
    "    y = BatchNormalization()(y)\n",
    "    y = Activation('relu')(y)\n",
    "    #y = squeeze_excite_block(y)\n",
    "\n",
    "    y = Conv1D(128, 3, padding='same', kernel_initializer='he_uniform')(y)\n",
    "    y = BatchNormalization()(y)\n",
    "    y = Activation('relu')(y)\n",
    "\n",
    "    y = GlobalAveragePooling1D()(y)\n",
    "\n",
    "    x = concatenate([x, y])\n",
    "\n",
    "    out = Dense(NB_CLASS, activation='softmax')(x)\n",
    "\n",
    "    model = Model(ip, out)\n",
    "    model.summary()\n",
    "\n",
    "    # add load model code here to fine-tune\n",
    "\n",
    "    return model\n",
    "\n",
    "\n",
    "def generate_model_4():\n",
    "    ip = Input(shape=(MAX_NB_VARIABLES, MAX_TIMESTEPS))\n",
    "    # stride = 3\n",
    "    #\n",
    "    # x = Permute((2, 1))(ip)\n",
    "    # x = Conv1D(MAX_NB_VARIABLES // stride, 8, strides=stride, padding='same', activation='relu', use_bias=False,\n",
    "    #            kernel_initializer='he_uniform')(x)  # (None, variables / stride, timesteps)\n",
    "    # x = Permute((2, 1))(x)\n",
    "\n",
    "    x = Masking()(ip)\n",
    "    x = AttentionLSTM(8)(x)\n",
    "    x = Dropout(0.8)(x)\n",
    "\n",
    "    y = Permute((2, 1))(ip)\n",
    "    y = Conv1D(128, 8, padding='same', kernel_initializer='he_uniform')(y)\n",
    "    y = BatchNormalization()(y)\n",
    "    y = Activation('relu')(y)\n",
    "    #y = squeeze_excite_block(y)\n",
    "\n",
    "    y = Conv1D(256, 5, padding='same', kernel_initializer='he_uniform')(y)\n",
    "    y = BatchNormalization()(y)\n",
    "    y = Activation('relu')(y)\n",
    "    #y = squeeze_excite_block(y)\n",
    "\n",
    "    y = Conv1D(128, 3, padding='same', kernel_initializer='he_uniform')(y)\n",
    "    y = BatchNormalization()(y)\n",
    "    y = Activation('relu')(y)\n",
    "\n",
    "    y = GlobalAveragePooling1D()(y)\n",
    "\n",
    "    x = concatenate([x, y])\n",
    "\n",
    "    out = Dense(NB_CLASS, activation='softmax')(x)\n",
    "\n",
    "    model = Model(ip, out)\n",
    "    model.summary()\n",
    "\n",
    "    # add load model code here to fine-tune\n",
    "\n",
    "    return model\n",
    "\n",
    "def squeeze_excite_block(input):\n",
    "    ''' Create a squeeze-excite block\n",
    "    Args:\n",
    "        input: input tensor\n",
    "        filters: number of output filters\n",
    "        k: width factor\n",
    "    Returns: a keras tensor\n",
    "    '''\n",
    "    filters = input._keras_shape[-1] # channel_axis = -1 for TF\n",
    "\n",
    "    se = GlobalAveragePooling1D()(input)\n",
    "    se = Reshape((1, filters))(se)\n",
    "    se = Dense(filters // 16,  activation='relu', kernel_initializer='he_normal', use_bias=False)(se)\n",
    "    se = Dense(filters, activation='sigmoid', kernel_initializer='he_normal', use_bias=False)(se)\n",
    "    se = multiply([input, se])\n",
    "    return se"
   ]
  },
  {
   "cell_type": "code",
   "execution_count": 20,
   "metadata": {},
   "outputs": [
    {
     "name": "stdout",
     "output_type": "stream",
     "text": [
      "WARNING:tensorflow:From /home/safeicu/anaconda2/lib/python2.7/site-packages/tensorflow/python/framework/op_def_library.py:263: colocate_with (from tensorflow.python.framework.ops) is deprecated and will be removed in a future version.\n",
      "Instructions for updating:\n",
      "Colocations handled automatically by placer.\n",
      "WARNING:tensorflow:From /home/safeicu/anaconda2/lib/python2.7/site-packages/keras/backend/tensorflow_backend.py:3445: calling dropout (from tensorflow.python.ops.nn_ops) with keep_prob is deprecated and will be removed in a future version.\n",
      "Instructions for updating:\n",
      "Please use `rate` instead of `keep_prob`. Rate should be set to `rate = 1 - keep_prob`.\n",
      "__________________________________________________________________________________________________\n",
      "Layer (type)                    Output Shape         Param #     Connected to                     \n",
      "==================================================================================================\n",
      "input_1 (InputLayer)            (None, 5, 256)       0                                            \n",
      "__________________________________________________________________________________________________\n",
      "permute_1 (Permute)             (None, 256, 5)       0           input_1[0][0]                    \n",
      "__________________________________________________________________________________________________\n",
      "conv1d_1 (Conv1D)               (None, 256, 128)     5248        permute_1[0][0]                  \n",
      "__________________________________________________________________________________________________\n",
      "batch_normalization_1 (BatchNor (None, 256, 128)     512         conv1d_1[0][0]                   \n",
      "__________________________________________________________________________________________________\n",
      "activation_1 (Activation)       (None, 256, 128)     0           batch_normalization_1[0][0]      \n",
      "__________________________________________________________________________________________________\n",
      "global_average_pooling1d_1 (Glo (None, 128)          0           activation_1[0][0]               \n",
      "__________________________________________________________________________________________________\n",
      "reshape_1 (Reshape)             (None, 1, 128)       0           global_average_pooling1d_1[0][0] \n",
      "__________________________________________________________________________________________________\n",
      "dense_1 (Dense)                 (None, 1, 8)         1024        reshape_1[0][0]                  \n",
      "__________________________________________________________________________________________________\n",
      "dense_2 (Dense)                 (None, 1, 128)       1024        dense_1[0][0]                    \n",
      "__________________________________________________________________________________________________\n",
      "multiply_1 (Multiply)           (None, 256, 128)     0           activation_1[0][0]               \n",
      "                                                                 dense_2[0][0]                    \n",
      "__________________________________________________________________________________________________\n",
      "conv1d_2 (Conv1D)               (None, 256, 256)     164096      multiply_1[0][0]                 \n",
      "__________________________________________________________________________________________________\n",
      "batch_normalization_2 (BatchNor (None, 256, 256)     1024        conv1d_2[0][0]                   \n",
      "__________________________________________________________________________________________________\n",
      "activation_2 (Activation)       (None, 256, 256)     0           batch_normalization_2[0][0]      \n",
      "__________________________________________________________________________________________________\n",
      "global_average_pooling1d_2 (Glo (None, 256)          0           activation_2[0][0]               \n",
      "__________________________________________________________________________________________________\n",
      "reshape_2 (Reshape)             (None, 1, 256)       0           global_average_pooling1d_2[0][0] \n",
      "__________________________________________________________________________________________________\n",
      "dense_3 (Dense)                 (None, 1, 16)        4096        reshape_2[0][0]                  \n",
      "__________________________________________________________________________________________________\n",
      "dense_4 (Dense)                 (None, 1, 256)       4096        dense_3[0][0]                    \n",
      "__________________________________________________________________________________________________\n",
      "multiply_2 (Multiply)           (None, 256, 256)     0           activation_2[0][0]               \n",
      "                                                                 dense_4[0][0]                    \n",
      "__________________________________________________________________________________________________\n",
      "conv1d_3 (Conv1D)               (None, 256, 128)     98432       multiply_2[0][0]                 \n",
      "__________________________________________________________________________________________________\n",
      "masking_1 (Masking)             (None, 5, 256)       0           input_1[0][0]                    \n",
      "__________________________________________________________________________________________________\n",
      "batch_normalization_3 (BatchNor (None, 256, 128)     512         conv1d_3[0][0]                   \n",
      "__________________________________________________________________________________________________\n",
      "attention_lstm_1 (AttentionLSTM (None, 8)            18800       masking_1[0][0]                  \n",
      "__________________________________________________________________________________________________\n",
      "activation_3 (Activation)       (None, 256, 128)     0           batch_normalization_3[0][0]      \n",
      "__________________________________________________________________________________________________\n",
      "dropout_1 (Dropout)             (None, 8)            0           attention_lstm_1[0][0]           \n",
      "__________________________________________________________________________________________________\n",
      "global_average_pooling1d_3 (Glo (None, 128)          0           activation_3[0][0]               \n",
      "__________________________________________________________________________________________________\n",
      "concatenate_1 (Concatenate)     (None, 136)          0           dropout_1[0][0]                  \n",
      "                                                                 global_average_pooling1d_3[0][0] \n",
      "__________________________________________________________________________________________________\n",
      "dense_5 (Dense)                 (None, 2)            274         concatenate_1[0][0]              \n",
      "==================================================================================================\n",
      "Total params: 299,138\n",
      "Trainable params: 298,114\n",
      "Non-trainable params: 1,024\n",
      "__________________________________________________________________________________________________\n"
     ]
    }
   ],
   "source": [
    "model = generate_model_2()"
   ]
  },
  {
   "cell_type": "markdown",
   "metadata": {},
   "source": [
    "## Training for `n` times"
   ]
  },
  {
   "cell_type": "code",
   "execution_count": 21,
   "metadata": {},
   "outputs": [],
   "source": [
    "from keras.callbacks import EarlyStopping, TensorBoard, ModelCheckpoint, CSVLogger\n",
    "import keras"
   ]
  },
  {
   "cell_type": "code",
   "execution_count": 22,
   "metadata": {},
   "outputs": [],
   "source": [
    "class PlotLosses(keras.callbacks.Callback):\n",
    "    def on_train_begin(self, logs={}):\n",
    "        self.i = 0\n",
    "        self.x = []\n",
    "        self.losses = []\n",
    "        self.val_losses = []\n",
    "        \n",
    "        self.fig = plt.figure()\n",
    "        \n",
    "        self.logs = []\n",
    "\n",
    "    def on_epoch_end(self, epoch, logs={}):\n",
    "        \n",
    "        self.logs.append(logs)\n",
    "        self.x.append(self.i)\n",
    "        self.losses.append(logs.get('loss'))\n",
    "        self.val_losses.append(logs.get('val_loss'))\n",
    "        self.i += 1\n",
    "        \n",
    "        clear_output(wait=True)\n",
    "        plt.plot(self.x, self.losses, label=\"loss\")\n",
    "        plt.plot(self.x, self.val_losses, label=\"val_loss\")\n",
    "        plt.legend()\n",
    "        plt.show();\n",
    "        \n",
    "plot_losses = PlotLosses()\n",
    "\n",
    "#########model.load_weights('/workspace/aditya/sofa/final_sofa_inc_res_hil_256_3d.h5')"
   ]
  },
  {
   "cell_type": "code",
   "execution_count": 93,
   "metadata": {},
   "outputs": [
    {
     "data": {
      "image/png": "[encoded data removed]",
      "text/plain": [
       "<Figure size 432x288 with 1 Axes>"
      ]
     },
     "metadata": {
      "needs_background": "light"
     },
     "output_type": "display_data"
    }
   ],
   "source": [
    "import random\n",
    "random.seed(3)\n",
    "for i in range(1):\n",
    "    filepath = \"/home/safeicu/aditya/LSTM_FCN/model_checkpoints/shock/mimic-normalized-age90-256/64_batch_weights-hilbert-loop-model_\"+str(i)+\".hdf5\"\n",
    "    checkpoint = ModelCheckpoint(filepath, monitor='val_acc', verbose=1, save_best_only=True, save_weights_only=True, mode='auto')\n",
    "    csv_logger = CSVLogger('/home/safeicu/aditya/LSTM_FCN/model_checkpoints/shock/mimic-normalized-age90-256/64_batch_log_'+str(i)+'.csv', append=True, separator=',')\n",
    "    callbacks_list = [checkpoint,csv_logger, plot_losses]\n",
    "    adam = keras.optimizers.Adam(lr=0.001, beta_1=0.9, beta_2=0.999, epsilon=None, decay=0.0, amsgrad=False)\n",
    "    model.compile(loss='categorical_crossentropy', optimizer=adam, metrics=['accuracy'])\n",
    "#   model.load_weights(\"../model_checkpoints/densenet-hilbert-split-unmatched-tr+val-normalized/weights-hilbert-loop-model_\"+str(0)+\".hdf5\")\n",
    "    model.fit(x_train,y_train,batch_size=64,epochs=50,validation_data = (x_val,y_val), callbacks=callbacks_list)"
   ]
  },
  {
   "cell_type": "markdown",
   "metadata": {},
   "source": [
    "## Final Evaluation"
   ]
  },
  {
   "cell_type": "code",
   "execution_count": 23,
   "metadata": {},
   "outputs": [],
   "source": [
    "from sklearn.metrics import f1_score\n",
    "from sklearn.metrics import precision_score\n",
    "from sklearn.metrics import recall_score\n",
    "from sklearn.metrics import roc_auc_score\n",
    "from sklearn.metrics import confusion_matrix\n",
    "from sklearn.metrics import accuracy_score\n",
    "from sklearn.metrics import average_precision_score"
   ]
  },
  {
   "cell_type": "code",
   "execution_count": 24,
   "metadata": {},
   "outputs": [
    {
     "name": "stdout",
     "output_type": "stream",
     "text": [
      "Accuracy: 0.7734939759036145\n",
      "Recall: 0.8514056224899599\n",
      "Precision: 0.7881040892193308\n",
      "F1 score: 0.8185328185328186\n",
      "ROC: 0.8275753616877146\n",
      "[[109  57]\n",
      " [ 37 212]]\n"
     ]
    }
   ],
   "source": [
    "model.load_weights(\"/home/safeicu/aditya/LSTM_FCN/model_checkpoints/shock/mimic-normalized-age90-256/64_batch_weights-hilbert-loop-model_0.hdf5\")\n",
    "##model.evaluate(X_tt, lab_tt, batch_size=64)\n",
    "y_test_prob = model.predict(x = x_val, batch_size=64)\n",
    "y_classes = np.round(y_test_prob[:,1])\n",
    "y_true = y_val[:,1]\n",
    "print(\"Accuracy: \" + str(accuracy_score(y_true, y_classes)))\n",
    "print(\"Recall: \" + str(recall_score(y_true, y_classes)))\n",
    "print(\"Precision: \" + str(precision_score(y_true, y_classes)))\n",
    "print(\"F1 score: \" + str(f1_score(y_true, y_classes)))\n",
    "print(\"ROC: \" + str(roc_auc_score(y_true, y_test_prob[:,1])))\n",
    "print(confusion_matrix(y_true, y_classes))"
   ]
  },
  {
   "cell_type": "code",
   "execution_count": 25,
   "metadata": {},
   "outputs": [],
   "source": [
    "from sklearn.metrics import roc_curve\n",
    "from sklearn.metrics import auc"
   ]
  },
  {
   "cell_type": "code",
   "execution_count": 26,
   "metadata": {},
   "outputs": [
    {
     "name": "stdout",
     "output_type": "stream",
     "text": [
      "Area under the ROC curve : 0.827575\n"
     ]
    }
   ],
   "source": [
    "fpr, tpr, thresholds =roc_curve(y_true, y_test_prob[:,1])\n",
    "roc_auc = auc(fpr, tpr)\n",
    "print(\"Area under the ROC curve : %f\" % roc_auc)"
   ]
  },
  {
   "cell_type": "code",
   "execution_count": 27,
   "metadata": {},
   "outputs": [],
   "source": [
    "def cutoff_youdens_j(fpr,tpr,thresholds):\n",
    "    j_scores = tpr-fpr\n",
    "    j_ordered = sorted(zip(j_scores,thresholds))\n",
    "    return j_ordered[-1][1]"
   ]
  },
  {
   "cell_type": "code",
   "execution_count": 28,
   "metadata": {},
   "outputs": [
    {
     "data": {
      "text/plain": [
       "0.46605363"
      ]
     },
     "execution_count": 28,
     "metadata": {},
     "output_type": "execute_result"
    }
   ],
   "source": [
    "cutoff_youdens_j(fpr, tpr, thresholds)"
   ]
  },
  {
   "cell_type": "code",
   "execution_count": 29,
   "metadata": {},
   "outputs": [],
   "source": [
    "youdens = cutoff_youdens_j(fpr, tpr, thresholds)"
   ]
  },
  {
   "cell_type": "code",
   "execution_count": 30,
   "metadata": {},
   "outputs": [
    {
     "name": "stdout",
     "output_type": "stream",
     "text": [
      "Accuracy: 0.744578313253012\n",
      "Recall: 0.8127490039840638\n",
      "Precision: 0.7756653992395437\n",
      "F1 score: 0.7937743190661478\n",
      "ROC: 0.8302400155475659\n",
      "[[105  59]\n",
      " [ 47 204]]\n"
     ]
    }
   ],
   "source": [
    "y_test_prob = model.predict(x_test)\n",
    "y_test_prob = y_test_prob[:,1]\n",
    "y_classes = (y_test_prob>youdens)*1\n",
    "y_true = y_test[:,1]\n",
    "print(\"Accuracy: \" + str(accuracy_score(y_true, y_classes)))\n",
    "print(\"Recall: \" + str(recall_score(y_true, y_classes)))\n",
    "print(\"Precision: \" + str(precision_score(y_true, y_classes)))\n",
    "print(\"F1 score: \" + str(f1_score(y_true, y_classes)))\n",
    "print(\"ROC: \" + str(roc_auc_score(y_true, y_test_prob)))\n",
    "print(confusion_matrix(y_true, y_classes))"
   ]
  },
  {
   "cell_type": "code",
   "execution_count": 31,
   "metadata": {},
   "outputs": [],
   "source": [
    "fpr, tpr, thresholds =roc_curve(y_true, y_test_prob)\n",
    "roc_auc = auc(fpr, tpr)"
   ]
  },
  {
   "cell_type": "code",
   "execution_count": 32,
   "metadata": {},
   "outputs": [
    {
     "data": {
      "image/png": "[encoded data removed]",
      "text/plain": [
       "<Figure size 432x288 with 1 Axes>"
      ]
     },
     "metadata": {
      "needs_background": "light"
     },
     "output_type": "display_data"
    },
    {
     "name": "stdout",
     "output_type": "stream",
     "text": [
      "Area under the ROC curve : 0.830240\n"
     ]
    }
   ],
   "source": [
    "plot_roc_curve(fpr, tpr)\n",
    "plt.show()\n",
    "print(\"Area under the ROC curve : %f\" % roc_auc)"
   ]
  },
  {
   "cell_type": "code",
   "execution_count": 33,
   "metadata": {},
   "outputs": [],
   "source": [
    "prob = model.predict(x_test)\n",
    "prob = pd.DataFrame(prob)\n",
    "prob.to_csv('/home/safeicu/aditya/LSTM_FCN/probs/shock/shock-lfcn-mimic.csv', index=None)"
   ]
  },
  {
   "cell_type": "markdown",
   "metadata": {},
   "source": [
    "### With age-gender"
   ]
  },
  {
   "cell_type": "code",
   "execution_count": 34,
   "metadata": {},
   "outputs": [],
   "source": [
    "from sklearn.linear_model import Lasso"
   ]
  },
  {
   "cell_type": "code",
   "execution_count": 35,
   "metadata": {},
   "outputs": [],
   "source": [
    "from sklearn.linear_model import LogisticRegression"
   ]
  },
  {
   "cell_type": "code",
   "execution_count": 36,
   "metadata": {},
   "outputs": [],
   "source": [
    "import pickle"
   ]
  },
  {
   "cell_type": "code",
   "execution_count": 37,
   "metadata": {},
   "outputs": [],
   "source": [
    "import keras "
   ]
  },
  {
   "cell_type": "code",
   "execution_count": 38,
   "metadata": {},
   "outputs": [],
   "source": [
    "demo_train = np.array(demo_train)\n",
    "demo_test = np.array(demo_test)\n",
    "demo_val = np.array(demo_val)"
   ]
  },
  {
   "cell_type": "code",
   "execution_count": 39,
   "metadata": {},
   "outputs": [
    {
     "name": "stdout",
     "output_type": "stream",
     "text": [
      "Accuracy: 0.7686746987951807\n",
      "Recall: 0.8353413654618473\n",
      "Precision: 0.7908745247148289\n",
      "F1 score: 0.8125\n",
      "ROC: 0.8105675714907825\n",
      "[[111  55]\n",
      " [ 41 208]]\n"
     ]
    }
   ],
   "source": [
    "model.load_weights(\"/home/safeicu/aditya/LSTM_FCN/model_checkpoints/shock/mimic-normalized-age90-256/64_batch_weights-hilbert-loop-model_0.hdf5\")\n",
    "\n",
    "#Intermediate layer model\n",
    "intermediate_layer_model = models.Model(inputs=model.input, outputs= model.layers[-2].output)\n",
    "\n",
    "#Predictions from the intermediate layer model\n",
    "X_tr_int = intermediate_layer_model.predict(x_train)\n",
    "X_val_int = intermediate_layer_model.predict(x_val)\n",
    "X_tt_int = intermediate_layer_model.predict(x_test)\n",
    "\n",
    "#Concat intermediate activations and age_gender\n",
    "X_tr_int = np.concatenate((X_tr_int, demo_train), axis = 1)\n",
    "X_val_int = np.concatenate((X_val_int, demo_val), axis = 1)\n",
    "X_tt_int = np.concatenate((X_tt_int, demo_test), axis = 1)\n",
    "\n",
    "mean_calc1 = np.mean(X_tr_int, axis=0)\n",
    "std_calc1 = np.std(X_tr_int, axis = 0, ddof = 1)\n",
    "\n",
    "X_tr_int -= mean_calc1\n",
    "X_tt_int -= mean_calc1\n",
    "X_val_int -= mean_calc1\n",
    "# Apply featurewise_std_normalization to test-data with statistics from train data\n",
    "X_tr_int /= (std_calc1 + K.epsilon())\n",
    "X_tt_int /= (std_calc1 + K.epsilon())\n",
    "X_val_int /= (std_calc1 + K.epsilon())\n",
    "\n",
    "\n",
    "#Fit LogReg\n",
    "clf = LogisticRegression(penalty=\"l1\", random_state=0)\n",
    "clf.fit(X_tr_int, y_train[:,1])\n",
    "\n",
    "\n",
    "#now you can save it to a file\n",
    "with open('/home/safeicu/aditya/LSTM_FCN/model_checkpoints/shock/mimic-normalized-age90-256/mimic+age+gender+final.pkl', 'wb') as f:\n",
    "    pickle.dump(clf, f)\n",
    "\n",
    "\n",
    "\n",
    "#Get LogReg preds and calculate metrics\n",
    "y_test_prob = clf.predict_proba(X_val_int)[:,1]\n",
    "y_classes = clf.predict(X_val_int)\n",
    "y_true = y_val[:,1]\n",
    "print(\"Accuracy: \" + str(accuracy_score(y_true, y_classes)))\n",
    "print(\"Recall: \" + str(recall_score(y_true, y_classes)))\n",
    "print(\"Precision: \" + str(precision_score(y_true, y_classes)))\n",
    "print(\"F1 score: \" + str(f1_score(y_true, y_classes)))\n",
    "print(\"ROC: \" + str(roc_auc_score(y_true, y_test_prob)))\n",
    "print(confusion_matrix(y_true, y_classes))"
   ]
  },
  {
   "cell_type": "code",
   "execution_count": 40,
   "metadata": {},
   "outputs": [],
   "source": [
    "from sklearn.metrics import roc_curve\n",
    "from sklearn.metrics import auc"
   ]
  },
  {
   "cell_type": "code",
   "execution_count": 41,
   "metadata": {},
   "outputs": [
    {
     "name": "stdout",
     "output_type": "stream",
     "text": [
      "Area under the ROC curve : 0.810568\n"
     ]
    }
   ],
   "source": [
    "fpr, tpr, thresholds =roc_curve(y_true, y_test_prob)\n",
    "roc_auc = auc(fpr, tpr)\n",
    "print(\"Area under the ROC curve : %f\" % roc_auc)"
   ]
  },
  {
   "cell_type": "code",
   "execution_count": 42,
   "metadata": {},
   "outputs": [],
   "source": [
    "def cutoff_youdens_j(fpr,tpr,thresholds):\n",
    "    j_scores = tpr-fpr\n",
    "    j_ordered = sorted(zip(j_scores,thresholds))\n",
    "    return j_ordered[-1][1]"
   ]
  },
  {
   "cell_type": "code",
   "execution_count": 43,
   "metadata": {},
   "outputs": [
    {
     "data": {
      "text/plain": [
       "0.6065561500553938"
      ]
     },
     "execution_count": 43,
     "metadata": {},
     "output_type": "execute_result"
    }
   ],
   "source": [
    "cutoff_youdens_j(fpr, tpr, thresholds)"
   ]
  },
  {
   "cell_type": "code",
   "execution_count": 44,
   "metadata": {},
   "outputs": [],
   "source": [
    "youdens = cutoff_youdens_j(fpr, tpr, thresholds)"
   ]
  },
  {
   "cell_type": "code",
   "execution_count": 45,
   "metadata": {},
   "outputs": [
    {
     "name": "stdout",
     "output_type": "stream",
     "text": [
      "Accuracy: 0.7180722891566265\n",
      "Recall: 0.7051792828685259\n",
      "Precision: 0.8045454545454546\n",
      "F1 score: 0.7515923566878983\n",
      "ROC: 0.8011855018948596\n",
      "[[121  43]\n",
      " [ 74 177]]\n"
     ]
    }
   ],
   "source": [
    "y_test_prob = clf.predict_proba(X_tt_int)[:,1]\n",
    "y_classes = (y_test_prob>youdens)*1\n",
    "y_true = y_test[:,1]\n",
    "print(\"Accuracy: \" + str(accuracy_score(y_true, y_classes)))\n",
    "print(\"Recall: \" + str(recall_score(y_true, y_classes)))\n",
    "print(\"Precision: \" + str(precision_score(y_true, y_classes)))\n",
    "print(\"F1 score: \" + str(f1_score(y_true, y_classes)))\n",
    "print(\"ROC: \" + str(roc_auc_score(y_true, y_test_prob)))\n",
    "print(confusion_matrix(y_true, y_classes))"
   ]
  },
  {
   "cell_type": "code",
   "execution_count": 47,
   "metadata": {},
   "outputs": [],
   "source": [
    "prob = clf.predict_proba(X_tt_int)\n",
    "prob = pd.DataFrame(prob)\n",
    "prob.to_csv('/home/safeicu/aditya/LSTM_FCN/probs/shock/shock-lfcn-mimic-age-gender.csv', index=None)"
   ]
  },
  {
   "cell_type": "markdown",
   "metadata": {},
   "source": [
    "_____\n",
    "_____"
   ]
  },
  {
   "cell_type": "markdown",
   "metadata": {},
   "source": [
    "# Safe icu results"
   ]
  },
  {
   "cell_type": "code",
   "execution_count": 118,
   "metadata": {},
   "outputs": [
    {
     "name": "stdout",
     "output_type": "stream",
     "text": [
      "(81, 1284)\n",
      "(82, 4)\n"
     ]
    }
   ],
   "source": [
    "x_train = pd.read_csv('/home/safeicu/aditya/safeicu_si/tr_test_safeicu_50_50/x_train_dias.csv')\n",
    "x_test = pd.read_csv('/home/safeicu/aditya/safeicu_si/tr_test_safeicu_50_50/x_test_dias.csv')\n",
    "\n",
    "y_train = pd.read_csv('/home/safeicu/aditya/safeicu_si/tr_test_safeicu_50_50/y_train.csv')\n",
    "y_test = pd.read_csv('/home/safeicu/aditya/safeicu_si/tr_test_safeicu_50_50/y_test.csv')\n",
    "\n",
    "print(x_train.shape)\n",
    "print(y_test.shape)"
   ]
  },
  {
   "cell_type": "code",
   "execution_count": 119,
   "metadata": {},
   "outputs": [],
   "source": [
    "x_train = np.array(x_train.drop(['id', 'GENDER', 'age', 'label'], axis = 1))\n",
    "\n",
    "x_test = np.array(x_test.drop(['id', 'GENDER', 'age', 'label'], axis = 1))"
   ]
  },
  {
   "cell_type": "code",
   "execution_count": 120,
   "metadata": {},
   "outputs": [
    {
     "name": "stdout",
     "output_type": "stream",
     "text": [
      "(81, 256)\n",
      "(81, 256)\n",
      "(81, 256)\n",
      "(81, 256)\n",
      "(81, 256)\n",
      "57.25805520607302\n",
      "(82, 256)\n"
     ]
    }
   ],
   "source": [
    "x_train_hr = x_train[:,0:256]\n",
    "mean_hr_tr = np.mean(x_train_hr)\n",
    "std_hr_tr = np.nanstd(x_train_hr)\n",
    "x_train_hr = (x_train_hr - mean_hr_tr)/(std_hr_tr)\n",
    "                                                        ##, ddof = 1) + K.epsilon())\n",
    "print(x_train_hr.shape)\n",
    "\n",
    "x_train_resp = x_train[:,256:512]\n",
    "mean_resp_tr = np.mean(x_train_resp)\n",
    "std_resp_tr = np.nanstd(x_train_resp)\n",
    "x_train_resp = (x_train_resp - mean_resp_tr)/(std_resp_tr)\n",
    "                                                              ##, ddof = 1) + K.epsilon())\n",
    "print(x_train_resp.shape)\n",
    "\n",
    "x_train_sp = x_train[:,512:768]\n",
    "mean_sp_tr = np.mean(x_train_sp)\n",
    "std_sp_tr = np.nanstd(x_train_sp)\n",
    "x_train_sp = (x_train_sp - mean_sp_tr)/(std_sp_tr)\n",
    "                                                        ##, ddof = 1) + K.epsilon())\n",
    "print(x_train_sp.shape)\n",
    "\n",
    "x_train_sys = x_train[:,768:1024]\n",
    "mean_sys_tr = np.mean(x_train_sys)\n",
    "std_sys_tr = np.nanstd(x_train_sys)\n",
    "x_train_sys = (x_train_sys -mean_sys_tr)/ (std_sys_tr)\n",
    "                                                            ##, ddof = 1) + K.epsilon())\n",
    "print(x_train_sys.shape)\n",
    "\n",
    "x_train_dias = x_train[:,1024:1280]\n",
    "mean_dias_tr = np.mean(x_train_dias)\n",
    "std_dias_tr = np.nanstd(x_train_dias)\n",
    "x_train_dias = (x_train_dias - mean_dias_tr)/ (std_dias_tr)\n",
    "                                                               ##, ddof = 1) + K.epsilon())\n",
    "print(x_train_dias.shape)\n",
    "\n",
    "\n",
    "######################### Test centering ##############\n",
    "x_test_hr = x_test[:,0:256]\n",
    "x_test_hr = (x_test_hr - mean_hr_tr )/ (std_hr_tr) \n",
    "                                                        #ddof = 1) + K.epsilon())\n",
    "\n",
    "x_test_resp = x_test[:,256:512]\n",
    "x_test_resp = (x_test_resp - mean_resp_tr)/ (std_resp_tr)\n",
    "                                                             #ddof = 1) + K.epsilon())\n",
    "\n",
    "x_test_sp = x_test[:,512:768]\n",
    "x_test_sp = (x_test_sp - mean_sp_tr)/ (std_sp_tr) \n",
    "                                                       #ddof = 1) + K.epsilon())\n",
    "\n",
    "x_test_sys = x_test[:,768:1024]\n",
    "x_test_sys = (x_test_sys - mean_sys_tr)/ (std_sys_tr)\n",
    "\n",
    "x_test_dias = x_test[:,1024:1280]\n",
    "print(np.mean(x_test_dias))\n",
    "x_test_dias = (x_test_dias - mean_dias_tr)/ (std_dias_tr)\n",
    "print(x_test_dias.shape)\n"
   ]
  },
  {
   "cell_type": "code",
   "execution_count": 121,
   "metadata": {},
   "outputs": [],
   "source": [
    "from numpy import zeros, newaxis\n",
    "#x_train_hr = np.array(x_train_hr)\n",
    "\n",
    "x_train_hr = x_train_hr[:, newaxis,:]\n",
    "x_train_resp = x_train_resp[:, newaxis,:]\n",
    "x_train_sp = x_train_sp[:,newaxis,:]\n",
    "x_train_sys = x_train_sys[:,newaxis,:]\n",
    "x_train_dias = x_train_dias[:,newaxis,:]\n",
    "\n",
    "x_val_hr = x_val_hr[:,newaxis,:]\n",
    "x_val_resp = x_val_resp[:,newaxis,:]\n",
    "x_val_sp = x_val_sp[:,newaxis,:]\n",
    "x_val_sys = x_val_sys[:, newaxis,:]\n",
    "x_val_dias = x_val_dias[:,newaxis,:]\n",
    "\n",
    "x_test_hr = x_test_hr[:,newaxis,:]\n",
    "x_test_resp = x_test_resp[:, newaxis,:]\n",
    "x_test_sp = x_test_sp[:,  newaxis,:]\n",
    "x_test_sys = x_test_sys[:, newaxis,:]\n",
    "x_test_dias = x_test_dias[:, newaxis,:]"
   ]
  },
  {
   "cell_type": "code",
   "execution_count": 122,
   "metadata": {},
   "outputs": [
    {
     "name": "stdout",
     "output_type": "stream",
     "text": [
      "(81, 1280)\n",
      "(81, 5, 256)\n",
      "(82, 5, 256)\n"
     ]
    }
   ],
   "source": [
    "x_val =  np.hstack((np.array(x_train_hr), np.array(x_train_resp), np.array(x_train_sp), np.array(x_train_sys), np.array(x_train_dias))) \n",
    "x_test =  np.hstack((np.array(x_test_hr), np.array(x_test_resp), np.array(x_test_sp), np.array(x_test_sys),np.array(x_test_dias))) \n",
    "print(x_train.shape)\n",
    "print(x_val.shape)\n",
    "print(x_test.shape)"
   ]
  },
  {
   "cell_type": "code",
   "execution_count": 123,
   "metadata": {},
   "outputs": [
    {
     "name": "stdout",
     "output_type": "stream",
     "text": [
      "(81, 2)\n",
      "(82, 2)\n"
     ]
    }
   ],
   "source": [
    "demo_train = y_train.loc[ : , ['1', '2']]\n",
    "print(demo_train.shape)\n",
    "demo_test = y_test.loc[ : , ['1', '2']]\n",
    "print(demo_test.shape)"
   ]
  },
  {
   "cell_type": "code",
   "execution_count": 124,
   "metadata": {},
   "outputs": [],
   "source": [
    "demo_train['2'] = demo_train['2'] / 12 \n",
    "demo_test['2'] = demo_test['2'] / 12 \n",
    "\n",
    "mean_calc1 = np.mean(demo_train['2'], axis=0)\n",
    "std_calc1 = np.std(demo_train['2'], axis = 0, ddof = 1)\n",
    "\n"
   ]
  },
  {
   "cell_type": "code",
   "execution_count": 125,
   "metadata": {},
   "outputs": [],
   "source": [
    "demo_train['2'] -= mean_calc1\n",
    "demo_test['2'] -= mean_calc1\n",
    "# Apply featurewise_std_normalization to test-data with statistics from train data\n",
    "demo_train['2'] /= (std_calc1 + K.epsilon())\n",
    "demo_test['2'] /= (std_calc1 + K.epsilon())"
   ]
  },
  {
   "cell_type": "code",
   "execution_count": 126,
   "metadata": {},
   "outputs": [
    {
     "name": "stdout",
     "output_type": "stream",
     "text": [
      "(81, 2)\n"
     ]
    }
   ],
   "source": [
    "y_val  =np.array(y_train.iloc[:,3])\n",
    "y_test  = np.array(y_test.iloc[:,3])\n",
    "\n",
    "y_val = keras.utils.to_categorical(y_val, 2)\n",
    "print(y_val.shape)\n",
    "\n",
    "\n"
   ]
  },
  {
   "cell_type": "code",
   "execution_count": 127,
   "metadata": {},
   "outputs": [
    {
     "name": "stdout",
     "output_type": "stream",
     "text": [
      "(81, 2)\n",
      "(82, 2)\n"
     ]
    }
   ],
   "source": [
    "print(y_val.shape)\n",
    "y_test = keras.utils.to_categorical(y_test, 2)\n",
    "print(y_test.shape)"
   ]
  },
  {
   "cell_type": "markdown",
   "metadata": {},
   "source": [
    "___\n",
    "___"
   ]
  },
  {
   "cell_type": "markdown",
   "metadata": {},
   "source": [
    "# Evaluation"
   ]
  },
  {
   "cell_type": "markdown",
   "metadata": {},
   "source": [
    "## Without age gender"
   ]
  },
  {
   "cell_type": "code",
   "execution_count": 128,
   "metadata": {},
   "outputs": [],
   "source": [
    "from sklearn.metrics import f1_score\n",
    "from sklearn.metrics import precision_score\n",
    "from sklearn.metrics import recall_score\n",
    "from sklearn.metrics import roc_auc_score\n",
    "from sklearn.metrics import confusion_matrix\n",
    "from sklearn.metrics import accuracy_score\n",
    "from sklearn.metrics import average_precision_score"
   ]
  },
  {
   "cell_type": "code",
   "execution_count": 129,
   "metadata": {},
   "outputs": [
    {
     "name": "stdout",
     "output_type": "stream",
     "text": [
      "Accuracy: 0.5555555555555556\n",
      "Recall: 0.6153846153846154\n",
      "Precision: 0.38095238095238093\n",
      "F1 score: 0.47058823529411764\n",
      "ROC: 0.6118881118881119\n",
      "[[29 26]\n",
      " [10 16]]\n"
     ]
    }
   ],
   "source": [
    "model.load_weights(\"/home/safeicu/aditya/LSTM_FCN/model_checkpoints/shock/mimic-normalized-age90-256/64_batch_weights-hilbert-loop-model_0.hdf5\")\n",
    "#     model.evaluate(X_tt, lab_tt, batch_size=64)\n",
    "y_test_prob = model.predict(x = x_val, batch_size=1)\n",
    "y_test_prob = y_test_prob[:,1]\n",
    "y_classes = np.round(y_test_prob)\n",
    "y_true = y_val[:,1]\n",
    "print(\"Accuracy: \" + str(accuracy_score(y_true, y_classes)))\n",
    "print(\"Recall: \" + str(recall_score(y_true, y_classes)))\n",
    "print(\"Precision: \" + str(precision_score(y_true, y_classes)))\n",
    "print(\"F1 score: \" + str(f1_score(y_true, y_classes)))\n",
    "print(\"ROC: \" + str(roc_auc_score(y_true, y_test_prob)))\n",
    "print(confusion_matrix(y_true, y_classes))"
   ]
  },
  {
   "cell_type": "code",
   "execution_count": 130,
   "metadata": {},
   "outputs": [],
   "source": [
    "from sklearn.metrics import roc_curve\n",
    "from sklearn.metrics import auc"
   ]
  },
  {
   "cell_type": "code",
   "execution_count": 131,
   "metadata": {},
   "outputs": [
    {
     "name": "stdout",
     "output_type": "stream",
     "text": [
      "Area under the ROC curve : 0.611888\n"
     ]
    }
   ],
   "source": [
    "fpr, tpr, thresholds =roc_curve(y_true, y_test_prob)\n",
    "roc_auc = auc(fpr, tpr)\n",
    "print(\"Area under the ROC curve : %f\" % roc_auc)"
   ]
  },
  {
   "cell_type": "code",
   "execution_count": 132,
   "metadata": {},
   "outputs": [],
   "source": [
    "def cutoff_youdens_j(fpr,tpr,thresholds):\n",
    "    j_scores = tpr-fpr\n",
    "    j_ordered = sorted(zip(j_scores,thresholds))\n",
    "    return j_ordered[-1][1]"
   ]
  },
  {
   "cell_type": "code",
   "execution_count": 133,
   "metadata": {},
   "outputs": [
    {
     "data": {
      "text/plain": [
       "0.77825916"
      ]
     },
     "execution_count": 133,
     "metadata": {},
     "output_type": "execute_result"
    }
   ],
   "source": [
    "cutoff_youdens_j(fpr, tpr, thresholds)"
   ]
  },
  {
   "cell_type": "code",
   "execution_count": 134,
   "metadata": {},
   "outputs": [],
   "source": [
    "youdens = cutoff_youdens_j(fpr, tpr, thresholds)"
   ]
  },
  {
   "cell_type": "code",
   "execution_count": 135,
   "metadata": {},
   "outputs": [
    {
     "name": "stdout",
     "output_type": "stream",
     "text": [
      "Accuracy: 0.5975609756097561\n",
      "Recall: 0.65\n",
      "Precision: 0.3333333333333333\n",
      "F1 score: 0.4406779661016949\n",
      "ROC: 0.6629032258064516\n",
      "[[36 26]\n",
      " [ 7 13]]\n"
     ]
    }
   ],
   "source": [
    "y_test_prob = model.predict(x_test)\n",
    "y_test_prob = y_test_prob[:,1]\n",
    "y_classes = (y_test_prob>youdens)*1\n",
    "y_true = y_test[:,1]\n",
    "print(\"Accuracy: \" + str(accuracy_score(y_true, y_classes)))\n",
    "print(\"Recall: \" + str(recall_score(y_true, y_classes)))\n",
    "print(\"Precision: \" + str(precision_score(y_true, y_classes)))\n",
    "print(\"F1 score: \" + str(f1_score(y_true, y_classes))) \n",
    "print(\"ROC: \" + str(roc_auc_score(y_true, y_test_prob)))\n",
    "print(confusion_matrix(y_true, y_classes))"
   ]
  },
  {
   "cell_type": "code",
   "execution_count": 136,
   "metadata": {},
   "outputs": [],
   "source": [
    "prob = model.predict(x_test)\n",
    "prob = pd.DataFrame(prob)\n",
    "prob.to_csv('/home/safeicu/aditya/LSTM_FCN/probs/shock/shock-lfcn-safeicu.csv', index=None)"
   ]
  },
  {
   "cell_type": "code",
   "execution_count": 137,
   "metadata": {},
   "outputs": [
    {
     "name": "stdout",
     "output_type": "stream",
     "text": [
      "1.13.1\n"
     ]
    }
   ],
   "source": [
    "print(tf.__version__)"
   ]
  },
  {
   "cell_type": "markdown",
   "metadata": {},
   "source": [
    "### With age-gender"
   ]
  },
  {
   "cell_type": "code",
   "execution_count": 138,
   "metadata": {},
   "outputs": [],
   "source": [
    "from sklearn.linear_model import Lasso"
   ]
  },
  {
   "cell_type": "code",
   "execution_count": 139,
   "metadata": {},
   "outputs": [],
   "source": [
    "import pickle"
   ]
  },
  {
   "cell_type": "code",
   "execution_count": 140,
   "metadata": {},
   "outputs": [],
   "source": [
    "from sklearn.linear_model import LogisticRegression"
   ]
  },
  {
   "cell_type": "code",
   "execution_count": null,
   "metadata": {},
   "outputs": [],
   "source": []
  },
  {
   "cell_type": "code",
   "execution_count": 141,
   "metadata": {},
   "outputs": [
    {
     "name": "stdout",
     "output_type": "stream",
     "text": [
      "Accuracy: 0.6172839506172839\n",
      "Recall: 0.6153846153846154\n",
      "Precision: 0.43243243243243246\n",
      "F1 score: 0.5079365079365079\n",
      "ROC: 0.5965034965034965\n",
      "[[34 21]\n",
      " [10 16]]\n"
     ]
    }
   ],
   "source": [
    "model.load_weights(\"/home/safeicu/aditya/LSTM_FCN/model_checkpoints/shock/mimic-normalized-age90-256/64_batch_weights-hilbert-loop-model_0.hdf5\")\n",
    "#Intermediate layer model\n",
    "intermediate_layer_model = models.Model(inputs=model.input, outputs= model.layers[-2].output)\n",
    "\n",
    "#Predictions from the intermediate layer model\n",
    "X_val_int = intermediate_layer_model.predict(x_val)\n",
    "X_tt_int = intermediate_layer_model.predict(x_test)\n",
    "\n",
    "#Concat intermediate activations and age_gender\n",
    "demo_train = np.array(demo_train)\n",
    "demo_test = np.array(demo_test)\n",
    "\n",
    "X_val_int = np.concatenate((X_val_int, demo_train), axis = 1)\n",
    "X_tt_int = np.concatenate((X_tt_int, demo_test), axis = 1)\n",
    "\n",
    "mean_calc1 = np.mean(X_val_int, axis=0)\n",
    "std_calc1 = np.std(X_val_int, axis = 0, ddof = 1)\n",
    "\n",
    "\n",
    "X_tt_int -= mean_calc1\n",
    "X_val_int -= mean_calc1\n",
    "# Apply featurewise_std_normalization to test-data with statistics from train data\n",
    "\n",
    "X_tt_int /= (std_calc1 + K.epsilon())\n",
    "X_val_int /= (std_calc1 + K.epsilon())\n",
    "\n",
    "\n",
    "\n",
    "with open('/home/safeicu/aditya/LSTM_FCN/model_checkpoints/shock/mimic-normalized-age90-256/mimic+age+gender+final.pkl', 'rb') as f:\n",
    "    clf = pickle.load(f)\n",
    "#Fit LogReg\n",
    "\n",
    "#now you can save it to a file\n",
    "\n",
    "\n",
    "\n",
    "#Get LogReg preds and calculate metrics\n",
    "y_test_prob = clf.predict_proba(X_val_int)[:,1]\n",
    "y_classes = clf.predict(X_val_int)\n",
    "y_true = y_val[:,1]\n",
    "print(\"Accuracy: \" + str(accuracy_score(y_true, y_classes)))\n",
    "print(\"Recall: \" + str(recall_score(y_true, y_classes)))\n",
    "print(\"Precision: \" + str(precision_score(y_true, y_classes)))\n",
    "print(\"F1 score: \" + str(f1_score(y_true, y_classes)))\n",
    "print(\"ROC: \" + str(roc_auc_score(y_true, y_test_prob)))\n",
    "print(confusion_matrix(y_true, y_classes))"
   ]
  },
  {
   "cell_type": "code",
   "execution_count": 142,
   "metadata": {},
   "outputs": [],
   "source": [
    "from sklearn.metrics import roc_curve\n",
    "from sklearn.metrics import auc"
   ]
  },
  {
   "cell_type": "code",
   "execution_count": 143,
   "metadata": {},
   "outputs": [
    {
     "data": {
      "image/png": "[encoded data removed]",
      "text/plain": [
       "<Figure size 432x288 with 1 Axes>"
      ]
     },
     "metadata": {
      "needs_background": "light"
     },
     "output_type": "display_data"
    },
    {
     "name": "stdout",
     "output_type": "stream",
     "text": [
      "Area under the ROC curve : 0.596503\n"
     ]
    }
   ],
   "source": [
    "fpr, tpr, thresholds = roc_curve(y_true, y_test_prob)\n",
    "roc_auc = auc(fpr, tpr)\n",
    "plot_roc_curve(fpr, tpr)\n",
    "plt.show()\n",
    "print(\"Area under the ROC curve : %f\" % roc_auc)"
   ]
  },
  {
   "cell_type": "code",
   "execution_count": 146,
   "metadata": {},
   "outputs": [],
   "source": [
    "def cutoff_youdens_j(fpr,tpr,thresholds):\n",
    "    j_scores = tpr-fpr\n",
    "    j_ordered = sorted(zip(j_scores,thresholds))\n",
    "    return j_ordered[-1][1]"
   ]
  },
  {
   "cell_type": "code",
   "execution_count": 147,
   "metadata": {},
   "outputs": [
    {
     "data": {
      "text/plain": [
       "0.4547559055234338"
      ]
     },
     "execution_count": 147,
     "metadata": {},
     "output_type": "execute_result"
    }
   ],
   "source": [
    "cutoff_youdens_j(fpr, tpr, thresholds)"
   ]
  },
  {
   "cell_type": "code",
   "execution_count": 148,
   "metadata": {},
   "outputs": [],
   "source": [
    "youdens = cutoff_youdens_j(fpr, tpr, thresholds)"
   ]
  },
  {
   "cell_type": "code",
   "execution_count": 150,
   "metadata": {},
   "outputs": [
    {
     "name": "stdout",
     "output_type": "stream",
     "text": [
      "Accuracy: 0.5365853658536586\n",
      "Recall: 0.8\n",
      "Precision: 0.32\n",
      "F1 score: 0.45714285714285713\n",
      "ROC: 0.6919354838709677\n",
      "[[28 34]\n",
      " [ 4 16]]\n"
     ]
    }
   ],
   "source": [
    "y_test_prob = clf.predict_proba(X_tt_int)[:,1]\n",
    "y_classes = (y_test_prob>youdens)*1\n",
    "y_true = y_test[:,1]\n",
    "print(\"Accuracy: \" + str(accuracy_score(y_true, y_classes)))\n",
    "print(\"Recall: \" + str(recall_score(y_true, y_classes)))\n",
    "print(\"Precision: \" + str(precision_score(y_true, y_classes)))\n",
    "print(\"F1 score: \" + str(f1_score(y_true, y_classes)))\n",
    "print(\"ROC: \" + str(roc_auc_score(y_true, y_test_prob)))\n",
    "print(confusion_matrix(y_true, y_classes))"
   ]
  },
  {
   "cell_type": "code",
   "execution_count": 153,
   "metadata": {},
   "outputs": [],
   "source": [
    "prob = clf.predict_proba(X_tt_int)\n",
    "prob = pd.DataFrame(prob)\n",
    "prob.to_csv('/home/safeicu/aditya/LSTM_FCN/probs/shock/shock-lfcn-safeicu-age-gender.csv', index=None)"
   ]
  },
  {
   "cell_type": "markdown",
   "metadata": {},
   "source": [
    "## Safeicu evaluation "
   ]
  },
  {
   "cell_type": "code",
   "execution_count": 99,
   "metadata": {},
   "outputs": [],
   "source": [
    "model.load_weights(\"../model_checkpoints/densenet-hilbert-split-mimic-normalized/weights-hilbert-loop-model_\"+str(0)+\".hdf5\")\n",
    "\n",
    "#Intermediate layer model\n",
    "intermediate_layer_model = models.Model(inputs=model.input, outputs=model.get_layer(\"avg_pool\").output)\n",
    "\n",
    "#Predictions from the intermediate layer model\n",
    "X_val_int = intermediate_layer_model.predict(X_val)\n",
    "X_tt_int = intermediate_layer_model.predict(X_tt)\n",
    "\n",
    "#Concat intermediate activations and age_gender\n",
    "X_val_int = np.hstack([X_val_int, age_gender_val, nlts_val, val_lstm])\n",
    "X_tt_int = np.hstack([X_tt_int, age_gender_tt, nlts_test, test_lstm])\n",
    "\n",
    "# #Fit LogReg\n",
    "# clf = LogisticRegression(penalty=\"l1\", random_state=0)\n",
    "# clf.fit(X_tr_int, lab_tr)\n",
    "\n",
    "\n",
    "with open('../model_checkpoints/mimic+hilbert+age+gender+nlts+lstm.pkl', 'rb') as f:\n",
    "    clf = pickle.load(f)\n"
   ]
  },
  {
   "cell_type": "code",
   "execution_count": 94,
   "metadata": {},
   "outputs": [
    {
     "name": "stdout",
     "output_type": "stream",
     "text": [
      "Accuracy: 0.5342465753424658\n",
      "Recall: 0.0\n",
      "Precision: 0.0\n",
      "F1 score: 0.0\n",
      "ROC: 0.3431372549019608\n",
      "[[39  0]\n",
      " [34  0]]\n"
     ]
    }
   ],
   "source": [
    "y_test_prob = clf.predict_proba(X_val_int)[:,1]\n",
    "y_classes = clf.predict(X_val_int)\n",
    "y_true = lab_val\n",
    "print(\"Accuracy: \" + str(accuracy_score(y_true, y_classes)))\n",
    "print(\"Recall: \" + str(recall_score(y_true, y_classes)))\n",
    "print(\"Precision: \" + str(precision_score(y_true, y_classes)))\n",
    "print(\"F1 score: \" + str(f1_score(y_true, y_classes)))\n",
    "print(\"ROC: \" + str(roc_auc_score(y_true, y_test_prob)))\n",
    "print(confusion_matrix(y_true, y_classes))"
   ]
  },
  {
   "cell_type": "code",
   "execution_count": 68,
   "metadata": {},
   "outputs": [],
   "source": [
    "from sklearn.metrics import roc_curve\n",
    "from sklearn.metrics import auc"
   ]
  },
  {
   "cell_type": "code",
   "execution_count": 95,
   "metadata": {},
   "outputs": [
    {
     "name": "stdout",
     "output_type": "stream",
     "text": [
      "Area under the ROC curve : 0.343137\n"
     ]
    }
   ],
   "source": [
    "fpr, tpr, thresholds =roc_curve(y_true, y_test_prob)\n",
    "roc_auc = auc(fpr, tpr)\n",
    "print(\"Area under the ROC curve : %f\" % roc_auc)"
   ]
  },
  {
   "cell_type": "code",
   "execution_count": 70,
   "metadata": {},
   "outputs": [],
   "source": [
    "def cutoff_youdens_j(fpr,tpr,thresholds):\n",
    "    j_scores = tpr-fpr\n",
    "    j_ordered = sorted(zip(j_scores,thresholds))\n",
    "    return j_ordered[-1][1]"
   ]
  },
  {
   "cell_type": "code",
   "execution_count": 71,
   "metadata": {},
   "outputs": [
    {
     "data": {
      "text/plain": [
       "1.0"
      ]
     },
     "execution_count": 71,
     "metadata": {},
     "output_type": "execute_result"
    }
   ],
   "source": [
    "cutoff_youdens_j(fpr, tpr, thresholds)"
   ]
  },
  {
   "cell_type": "code",
   "execution_count": 72,
   "metadata": {},
   "outputs": [],
   "source": [
    "youdens = cutoff_youdens_j(fpr, tpr, thresholds)"
   ]
  },
  {
   "cell_type": "markdown",
   "metadata": {},
   "source": [
    "### Without Age gender"
   ]
  },
  {
   "cell_type": "code",
   "execution_count": 76,
   "metadata": {},
   "outputs": [
    {
     "name": "stdout",
     "output_type": "stream",
     "text": [
      "Accuracy: 0.5428571428571428\n",
      "Recall: 0.4883720930232558\n",
      "Precision: 0.6774193548387096\n",
      "F1 score: 0.5675675675675677\n",
      "ROC: 0.5189491817398795\n",
      "[[34 20]\n",
      " [44 42]]\n"
     ]
    }
   ],
   "source": [
    "y_test_prob = model.predict(X_val)\n",
    "y_classes = (y_test_prob>youdens)*1\n",
    "y_true = lab_val\n",
    "print(\"Accuracy: \" + str(accuracy_score(y_true, y_classes)))\n",
    "print(\"Recall: \" + str(recall_score(y_true, y_classes)))\n",
    "print(\"Precision: \" + str(precision_score(y_true, y_classes)))\n",
    "print(\"F1 score: \" + str(f1_score(y_true, y_classes)))\n",
    "print(\"ROC: \" + str(roc_auc_score(y_true, y_test_prob)))\n",
    "print(confusion_matrix(y_true, y_classes))"
   ]
  },
  {
   "cell_type": "markdown",
   "metadata": {},
   "source": [
    "____\n",
    "____"
   ]
  },
  {
   "cell_type": "markdown",
   "metadata": {},
   "source": [
    "## If Age gender"
   ]
  },
  {
   "cell_type": "code",
   "execution_count": 157,
   "metadata": {},
   "outputs": [
    {
     "name": "stdout",
     "output_type": "stream",
     "text": [
      "Accuracy: 0.7083333333333334\n",
      "Recall: 0.9318181818181818\n",
      "Precision: 0.6949152542372882\n",
      "F1 score: 0.796116504854369\n",
      "ROC: 0.6477272727272727\n",
      "[[10 18]\n",
      " [ 3 41]]\n"
     ]
    }
   ],
   "source": [
    "y_test_prob = clf.predict_proba(X_val_int)[:,1]\n",
    "y_classes = (y_test_prob>youdens)*1\n",
    "y_true = lab_val\n",
    "print(\"Accuracy: \" + str(accuracy_score(y_true, y_classes)))\n",
    "print(\"Recall: \" + str(recall_score(y_true, y_classes)))\n",
    "print(\"Precision: \" + str(precision_score(y_true, y_classes)))\n",
    "print(\"F1 score: \" + str(f1_score(y_true, y_classes)))\n",
    "print(\"ROC: \" + str(roc_auc_score(y_true, y_test_prob)))\n",
    "print(confusion_matrix(y_true, y_classes))"
   ]
  },
  {
   "cell_type": "code",
   "execution_count": 74,
   "metadata": {},
   "outputs": [
    {
     "name": "stdout",
     "output_type": "stream",
     "text": [
      "Average precision-recall score: 0.21\n"
     ]
    }
   ],
   "source": [
    "from sklearn.metrics import average_precision_score\n",
    "average_precision = average_precision_score(y_true, y_test_prob)\n",
    "\n",
    "print('Average precision-recall score: {0:0.2f}'.format(\n",
    "      average_precision))"
   ]
  },
  {
   "cell_type": "code",
   "execution_count": 75,
   "metadata": {},
   "outputs": [
    {
     "data": {
      "text/plain": [
       "Text(0.5, 1.0, '2-class Precision-Recall curve: AP=0.21')"
      ]
     },
     "execution_count": 75,
     "metadata": {},
     "output_type": "execute_result"
    },
    {
     "data": {
      "image/png": "[encoded data removed]",
      "text/plain": [
       "<Figure size 432x288 with 1 Axes>"
      ]
     },
     "metadata": {
      "needs_background": "light"
     },
     "output_type": "display_data"
    }
   ],
   "source": [
    "from sklearn.metrics import precision_recall_curve\n",
    "import matplotlib.pyplot as plt\n",
    "%matplotlib inline\n",
    "from inspect import signature\n",
    "\n",
    "precision, recall, _ = precision_recall_curve(y_true, y_test_prob)\n",
    "\n",
    "# In matplotlib < 1.5, plt.fill_between does not have a 'step' argument\n",
    "step_kwargs = ({'step': 'post'}\n",
    "               if 'step' in signature(plt.fill_between).parameters\n",
    "               else {})\n",
    "plt.step(recall, precision, color='b', alpha=0.2,\n",
    "         where='post')\n",
    "plt.fill_between(recall, precision, alpha=0.2, color='b', **step_kwargs)\n",
    "\n",
    "plt.xlabel('Recall')\n",
    "plt.ylabel('Precision')\n",
    "plt.ylim([0.0, 1.05])\n",
    "plt.xlim([0.0, 1.0])\n",
    "plt.title('2-class Precision-Recall curve: AP={0:0.2f}'.format(\n",
    "          average_precision))"
   ]
  },
  {
   "cell_type": "markdown",
   "metadata": {},
   "source": [
    "### Without age gender"
   ]
  },
  {
   "cell_type": "code",
   "execution_count": 77,
   "metadata": {},
   "outputs": [
    {
     "name": "stdout",
     "output_type": "stream",
     "text": [
      "Accuracy: 0.5460992907801419\n",
      "Recall: 0.52\n",
      "Precision: 0.7647058823529411\n",
      "F1 score: 0.6190476190476191\n",
      "ROC: 0.5695121951219513\n",
      "[[25 16]\n",
      " [48 52]]\n"
     ]
    }
   ],
   "source": [
    "#Without Age gender\n",
    "#Age gender below\n",
    "y_test_prob = model.predict(X_tt)\n",
    "y_classes = (y_test_prob>youdens)*1\n",
    "y_true = lab_tt\n",
    "print(\"Accuracy: \" + str(accuracy_score(y_true, y_classes)))\n",
    "print(\"Recall: \" + str(recall_score(y_true, y_classes)))\n",
    "print(\"Precision: \" + str(precision_score(y_true, y_classes)))\n",
    "print(\"F1 score: \" + str(f1_score(y_true, y_classes)))\n",
    "print(\"ROC: \" + str(roc_auc_score(y_true, y_test_prob)))\n",
    "print(confusion_matrix(y_true, y_classes))"
   ]
  },
  {
   "cell_type": "markdown",
   "metadata": {},
   "source": [
    "____\n",
    "____"
   ]
  },
  {
   "cell_type": "code",
   "execution_count": 73,
   "metadata": {},
   "outputs": [
    {
     "name": "stdout",
     "output_type": "stream",
     "text": [
      "Accuracy: 0.2907801418439716\n",
      "Recall: 0.0\n",
      "Precision: 0.0\n",
      "F1 score: 0.0\n",
      "ROC: 0.4657317073170732\n",
      "[[ 41   0]\n",
      " [100   0]]\n"
     ]
    },
    {
     "name": "stderr",
     "output_type": "stream",
     "text": [
      "/root/anaconda3/lib/python3.7/site-packages/sklearn/metrics/classification.py:1143: UndefinedMetricWarning: Precision is ill-defined and being set to 0.0 due to no predicted samples.\n",
      "  'precision', 'predicted', average, warn_for)\n",
      "/root/anaconda3/lib/python3.7/site-packages/sklearn/metrics/classification.py:1143: UndefinedMetricWarning: F-score is ill-defined and being set to 0.0 due to no predicted samples.\n",
      "  'precision', 'predicted', average, warn_for)\n"
     ]
    }
   ],
   "source": [
    "y_test_prob = clf.predict_proba(X_tt_int)[:,1]\n",
    "y_classes = (y_test_prob>youdens)*1\n",
    "y_true = lab_tt\n",
    "print(\"Accuracy: \" + str(accuracy_score(y_true, y_classes)))\n",
    "print(\"Recall: \" + str(recall_score(y_true, y_classes)))\n",
    "print(\"Precision: \" + str(precision_score(y_true, y_classes)))\n",
    "print(\"F1 score: \" + str(f1_score(y_true, y_classes)))\n",
    "print(\"ROC: \" + str(roc_auc_score(y_true, y_test_prob)))\n",
    "print(confusion_matrix(y_true, y_classes))"
   ]
  },
  {
   "cell_type": "code",
   "execution_count": 68,
   "metadata": {},
   "outputs": [],
   "source": [
    "pd.DataFrame(y_test_prob).to_csv(\"./probs/hilbert-safeicu-pretr-new.csv\", index=False)"
   ]
  },
  {
   "cell_type": "code",
   "execution_count": 56,
   "metadata": {},
   "outputs": [
    {
     "name": "stdout",
     "output_type": "stream",
     "text": [
      "Average precision-recall score: 0.68\n"
     ]
    }
   ],
   "source": [
    "from sklearn.metrics import average_precision_score\n",
    "average_precision = average_precision_score(y_true, y_test_prob)\n",
    "\n",
    "print('Average precision-recall score: {0:0.2f}'.format(\n",
    "      average_precision))"
   ]
  },
  {
   "cell_type": "code",
   "execution_count": 57,
   "metadata": {},
   "outputs": [
    {
     "data": {
      "text/plain": [
       "Text(0.5, 1.0, '2-class Precision-Recall curve: AP=0.68')"
      ]
     },
     "execution_count": 57,
     "metadata": {},
     "output_type": "execute_result"
    },
    {
     "data": {
      "image/png": "[encoded data removed]",
      "text/plain": [
       "<Figure size 432x288 with 1 Axes>"
      ]
     },
     "metadata": {
      "needs_background": "light"
     },
     "output_type": "display_data"
    }
   ],
   "source": [
    "from sklearn.metrics import precision_recall_curve\n",
    "import matplotlib.pyplot as plt\n",
    "%matplotlib inline\n",
    "from inspect import signature\n",
    "\n",
    "precision, recall, _ = precision_recall_curve(y_true, y_test_prob)\n",
    "\n",
    "# In matplotlib < 1.5, plt.fill_between does not have a 'step' argument\n",
    "step_kwargs = ({'step': 'post'}\n",
    "               if 'step' in signature(plt.fill_between).parameters\n",
    "               else {})\n",
    "plt.step(recall, precision, color='b', alpha=0.2,\n",
    "         where='post')\n",
    "plt.fill_between(recall, precision, alpha=0.2, color='b', **step_kwargs)\n",
    "\n",
    "plt.xlabel('Recall')\n",
    "plt.ylabel('Precision')\n",
    "plt.ylim([0.0, 1.05])\n",
    "plt.xlim([0.0, 1.0])\n",
    "plt.title('2-class Precision-Recall curve: AP={0:0.2f}'.format(\n",
    "          average_precision))"
   ]
  }
 ],
 "metadata": {
  "colab": {
   "default_view": {},
   "name": "parkinson_hilbert.ipynb",
   "provenance": [
    {
     "file_id": "1-8w_-AqB8OE-kMMwzkv9WyahI65dW9RX",
     "timestamp": 1522568496719
    }
   ],
   "version": "0.3.2",
   "views": {}
  },
  "kernelspec": {
   "display_name": "Python 3",
   "language": "python",
   "name": "python3"
  },
  "language_info": {
   "codemirror_mode": {
    "name": "ipython",
    "version": 3
   },
   "file_extension": ".py",
   "mimetype": "text/x-python",
   "name": "python",
   "nbconvert_exporter": "python",
   "pygments_lexer": "ipython3",
   "version": "3.7.4"
  }
 },
 "nbformat": 4,
 "nbformat_minor": 2
}
