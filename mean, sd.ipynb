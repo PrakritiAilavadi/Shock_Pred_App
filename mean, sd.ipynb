{
 "cells": [
  {
   "cell_type": "code",
   "execution_count": 4,
   "metadata": {},
   "outputs": [],
   "source": [
    "import pandas as pd\n",
    "import numpy as np"
   ]
  },
  {
   "cell_type": "code",
   "execution_count": 34,
   "metadata": {},
   "outputs": [],
   "source": [
    "# Importing data that has filtered out Boruta features, on which training the classifier is required: \n",
    "train_df = pd.read_csv(\"/Users/prakritiailavadi/Desktop/post_grad/project2/LOS/boruta_train_summ.csv\")\n",
    "val_df  = pd.read_csv(\"/Users/prakritiailavadi/Desktop/post_grad/project2/LOS/boruta_val_summ.csv\")\n",
    "test_df = pd.read_csv(\"/Users/prakritiailavadi/Desktop/post_grad/project2/LOS/boruta_test_summ.csv\")"
   ]
  },
  {
   "cell_type": "code",
   "execution_count": 35,
   "metadata": {},
   "outputs": [],
   "source": [
    "selected_cohort = pd.read_csv(\"/Users/prakritiailavadi/Desktop/post_grad/project2/LOS/selected_cohort_age_with_disc_los_24hr.csv\")"
   ]
  },
  {
   "cell_type": "code",
   "execution_count": 36,
   "metadata": {},
   "outputs": [],
   "source": [
    "train_ids = train_df[\"id\"].tolist()\n",
    "test_ids = test_df[\"id\"].tolist()\n",
    "val_ids = val_df[\"id\"].tolist()"
   ]
  },
  {
   "cell_type": "code",
   "execution_count": 49,
   "metadata": {},
   "outputs": [
    {
     "data": {
      "text/plain": [
       "1430"
      ]
     },
     "execution_count": 49,
     "metadata": {},
     "output_type": "execute_result"
    }
   ],
   "source": [
    "len(train_ids)\n",
    "#len(val_ids)\n",
    "# len(test_ids)"
   ]
  },
  {
   "cell_type": "code",
   "execution_count": 37,
   "metadata": {
    "scrolled": true
   },
   "outputs": [],
   "source": [
    "train_age_arr = selected_cohort['age'].loc[selected_cohort['Sub_icu'].isin(train_ids)]\n",
    "test_age_arr = selected_cohort['age'].loc[selected_cohort['Sub_icu'].isin(test_ids)]\n",
    "val_age_arr = selected_cohort['age'].loc[selected_cohort['Sub_icu'].isin(val_ids)]"
   ]
  },
  {
   "cell_type": "code",
   "execution_count": 50,
   "metadata": {},
   "outputs": [
    {
     "data": {
      "text/plain": [
       "948"
      ]
     },
     "execution_count": 50,
     "metadata": {},
     "output_type": "execute_result"
    }
   ],
   "source": [
    "len(train_age_arr)"
   ]
  },
  {
   "cell_type": "code",
   "execution_count": 39,
   "metadata": {},
   "outputs": [],
   "source": [
    "train_age_arr[train_age_arr > 90] = 90\n",
    "test_age_arr[test_age_arr > 90] = 90\n",
    "val_age_arr[val_age_arr > 90] = 90"
   ]
  },
  {
   "cell_type": "code",
   "execution_count": 40,
   "metadata": {},
   "outputs": [],
   "source": [
    "train_df[\"new_age\"] = train_age_arr"
   ]
  },
  {
   "cell_type": "code",
   "execution_count": 41,
   "metadata": {
    "scrolled": true
   },
   "outputs": [
    {
     "data": {
      "text/plain": [
       "0       69.706849\n",
       "1       77.641096\n",
       "2             NaN\n",
       "3       56.687671\n",
       "4       63.761644\n",
       "5       62.805479\n",
       "6             NaN\n",
       "7             NaN\n",
       "8       77.586301\n",
       "9       50.380822\n",
       "10      90.000000\n",
       "11      21.545205\n",
       "12      60.263014\n",
       "13      46.378082\n",
       "14      78.690411\n",
       "15      62.969863\n",
       "16            NaN\n",
       "17      39.136986\n",
       "18            NaN\n",
       "19            NaN\n",
       "20      88.323288\n",
       "21            NaN\n",
       "22      70.397260\n",
       "23      65.827397\n",
       "24      67.013699\n",
       "25      72.046575\n",
       "26      79.210959\n",
       "27      59.260274\n",
       "28            NaN\n",
       "29      50.408219\n",
       "          ...    \n",
       "1400          NaN\n",
       "1401    66.660274\n",
       "1402    53.939726\n",
       "1403          NaN\n",
       "1404          NaN\n",
       "1405    53.169863\n",
       "1406          NaN\n",
       "1407          NaN\n",
       "1408    67.553425\n",
       "1409          NaN\n",
       "1410    70.367123\n",
       "1411    90.000000\n",
       "1412    84.161644\n",
       "1413    80.580822\n",
       "1414          NaN\n",
       "1415    90.000000\n",
       "1416    31.309589\n",
       "1417    25.054795\n",
       "1418    72.830137\n",
       "1419          NaN\n",
       "1420    84.764384\n",
       "1421    62.117808\n",
       "1422          NaN\n",
       "1423          NaN\n",
       "1424          NaN\n",
       "1425    75.301370\n",
       "1426    79.545205\n",
       "1427    77.868493\n",
       "1428    88.980822\n",
       "1429    69.879452\n",
       "Name: new_age, Length: 1430, dtype: float64"
      ]
     },
     "execution_count": 41,
     "metadata": {},
     "output_type": "execute_result"
    }
   ],
   "source": [
    "train_df[\"new_age\"]"
   ]
  },
  {
   "cell_type": "code",
   "execution_count": 48,
   "metadata": {},
   "outputs": [
    {
     "data": {
      "text/plain": [
       "58.71948731290084"
      ]
     },
     "execution_count": 48,
     "metadata": {},
     "output_type": "execute_result"
    }
   ],
   "source": [
    "np.sum(train_df[\"new_age\"])/948"
   ]
  },
  {
   "cell_type": "code",
   "execution_count": 30,
   "metadata": {},
   "outputs": [
    {
     "data": {
      "text/plain": [
       "15.379379120949348"
      ]
     },
     "execution_count": 30,
     "metadata": {},
     "output_type": "execute_result"
    }
   ],
   "source": [
    "np.std(train_df[\"new_age\"])"
   ]
  },
  {
   "cell_type": "code",
   "execution_count": 29,
   "metadata": {
    "scrolled": true
   },
   "outputs": [
    {
     "data": {
      "text/plain": [
       "0        69.706849\n",
       "1        77.641096\n",
       "2        56.600000\n",
       "3        56.687671\n",
       "4        63.761644\n",
       "5        62.805479\n",
       "6        64.802740\n",
       "7        83.115068\n",
       "8        77.586301\n",
       "9        50.380822\n",
       "10      302.868493\n",
       "11       21.545205\n",
       "12       60.263014\n",
       "13       46.378082\n",
       "14       78.690411\n",
       "15       62.969863\n",
       "16       77.438356\n",
       "17       39.136986\n",
       "18       56.054795\n",
       "19       59.879452\n",
       "20       88.323288\n",
       "21       64.868493\n",
       "22       70.397260\n",
       "23       65.827397\n",
       "24       67.013699\n",
       "25       72.046575\n",
       "26       79.210959\n",
       "27       59.260274\n",
       "28       81.380822\n",
       "29       50.408219\n",
       "           ...    \n",
       "1580     67.200000\n",
       "1581     63.416438\n",
       "1582     65.408219\n",
       "1583     45.394521\n",
       "1584     76.128767\n",
       "1585     73.561644\n",
       "1586     54.115068\n",
       "1587     87.616438\n",
       "1588     82.663014\n",
       "1589     33.008219\n",
       "1590     68.128767\n",
       "1591     77.282192\n",
       "1592     69.569863\n",
       "1593     54.076712\n",
       "1594     53.813699\n",
       "1595     78.419178\n",
       "1596     74.717808\n",
       "1597    300.200000\n",
       "1598     45.884932\n",
       "1599     80.389041\n",
       "1600     87.200000\n",
       "1601     58.027397\n",
       "1602     84.956164\n",
       "1603     86.490411\n",
       "1604     87.660274\n",
       "1605     56.468493\n",
       "1606     57.802740\n",
       "1607     52.232877\n",
       "1608     77.550685\n",
       "1609     63.232877\n",
       "Name: age, Length: 1610, dtype: float64"
      ]
     },
     "execution_count": 29,
     "metadata": {},
     "output_type": "execute_result"
    }
   ],
   "source": [
    "selected_cohort[\"age\"]"
   ]
  },
  {
   "cell_type": "code",
   "execution_count": 28,
   "metadata": {
    "scrolled": true
   },
   "outputs": [
    {
     "data": {
      "text/plain": [
       "0       0.216704\n",
       "1       0.728071\n",
       "2       0.728071\n",
       "3       0.728071\n",
       "4       0.728071\n",
       "5      -0.622389\n",
       "6      -0.166468\n",
       "7      -0.228093\n",
       "8       0.724539\n",
       "9       0.724539\n",
       "10      0.724539\n",
       "11     -1.028869\n",
       "12      1.524609\n",
       "13      1.524609\n",
       "14      1.524609\n",
       "15     -2.887341\n",
       "16     -2.887341\n",
       "17     -0.391957\n",
       "18     -1.286848\n",
       "19     -1.286848\n",
       "20     -1.286848\n",
       "21     -1.286848\n",
       "22      0.795699\n",
       "23     -0.217499\n",
       "24     -1.753541\n",
       "25      1.416544\n",
       "26      0.261201\n",
       "27      0.261201\n",
       "28      0.261201\n",
       "29      0.261201\n",
       "          ...   \n",
       "1400    0.630600\n",
       "1401    0.630600\n",
       "1402    0.465148\n",
       "1403    1.370987\n",
       "1404    1.051736\n",
       "1405    0.114996\n",
       "1406    0.114996\n",
       "1407    0.114996\n",
       "1408    0.114996\n",
       "1409    0.207875\n",
       "1410   -0.807619\n",
       "1411   -0.807619\n",
       "1412   -0.807619\n",
       "1413   -0.807619\n",
       "1414    0.778218\n",
       "1415    0.539663\n",
       "1416    0.539663\n",
       "1417    0.539663\n",
       "1418    0.539663\n",
       "1419    0.539663\n",
       "1420    0.539663\n",
       "1421    0.539663\n",
       "1422    1.524609\n",
       "1423   -1.318632\n",
       "1424    0.905177\n",
       "1425   -0.536043\n",
       "1426    1.199531\n",
       "1427   -0.550523\n",
       "1428   -0.909503\n",
       "1429   -0.200547\n",
       "Name: age, Length: 1430, dtype: float64"
      ]
     },
     "execution_count": 28,
     "metadata": {},
     "output_type": "execute_result"
    }
   ],
   "source": [
    "train_df[\"age\"]"
   ]
  },
  {
   "cell_type": "code",
   "execution_count": 47,
   "metadata": {},
   "outputs": [
    {
     "data": {
      "text/plain": [
       "66.81657707654009"
      ]
     },
     "execution_count": 47,
     "metadata": {},
     "output_type": "execute_result"
    }
   ],
   "source": [
    "np.sum(train_age_arr)/948"
   ]
  },
  {
   "cell_type": "code",
   "execution_count": 102,
   "metadata": {},
   "outputs": [
    {
     "data": {
      "text/plain": [
       "64.57602314302731"
      ]
     },
     "execution_count": 102,
     "metadata": {},
     "output_type": "execute_result"
    }
   ],
   "source": [
    "np.mean(test_age_arr)"
   ]
  },
  {
   "cell_type": "code",
   "execution_count": 103,
   "metadata": {},
   "outputs": [
    {
     "data": {
      "text/plain": [
       "66.6111801242236"
      ]
     },
     "execution_count": 103,
     "metadata": {},
     "output_type": "execute_result"
    }
   ],
   "source": [
    "np.mean(val_age_arr)"
   ]
  },
  {
   "cell_type": "code",
   "execution_count": 104,
   "metadata": {},
   "outputs": [
    {
     "data": {
      "text/plain": [
       "15.413123846050649"
      ]
     },
     "execution_count": 104,
     "metadata": {},
     "output_type": "execute_result"
    }
   ],
   "source": [
    "np.std(train_age_arr)"
   ]
  },
  {
   "cell_type": "code",
   "execution_count": 105,
   "metadata": {},
   "outputs": [
    {
     "data": {
      "text/plain": [
       "16.213372392405"
      ]
     },
     "execution_count": 105,
     "metadata": {},
     "output_type": "execute_result"
    }
   ],
   "source": [
    "np.std(test_age_arr)"
   ]
  },
  {
   "cell_type": "code",
   "execution_count": 106,
   "metadata": {},
   "outputs": [
    {
     "data": {
      "text/plain": [
       "14.864197493479661"
      ]
     },
     "execution_count": 106,
     "metadata": {},
     "output_type": "execute_result"
    }
   ],
   "source": [
    "np.std(val_age_arr)"
   ]
  },
  {
   "cell_type": "code",
   "execution_count": null,
   "metadata": {},
   "outputs": [],
   "source": []
  }
 ],
 "metadata": {
  "kernelspec": {
   "display_name": "Python 3",
   "language": "python",
   "name": "python3"
  },
  "language_info": {
   "codemirror_mode": {
    "name": "ipython",
    "version": 3
   },
   "file_extension": ".py",
   "mimetype": "text/x-python",
   "name": "python",
   "nbconvert_exporter": "python",
   "pygments_lexer": "ipython3",
   "version": "3.6.8"
  }
 },
 "nbformat": 4,
 "nbformat_minor": 2
}
